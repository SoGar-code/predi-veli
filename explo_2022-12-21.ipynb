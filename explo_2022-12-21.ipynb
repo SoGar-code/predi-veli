{
 "cells": [
  {
   "cell_type": "markdown",
   "id": "5a73b0c5-5f83-484d-b0aa-e462f4f48d18",
   "metadata": {},
   "source": [
    "# Initial exploration of existing data"
   ]
  },
  {
   "cell_type": "code",
   "execution_count": 1,
   "id": "6d19a546-e491-41bf-9ded-7d05aede4c8c",
   "metadata": {},
   "outputs": [],
   "source": [
    "%load_ext autoreload\n",
    "%autoreload 2"
   ]
  },
  {
   "cell_type": "code",
   "execution_count": 2,
   "id": "7f91e8c9-9262-425d-ab3f-de0273f32268",
   "metadata": {},
   "outputs": [],
   "source": [
    "from pathlib import Path\n",
    "\n",
    "import pandas as pd"
   ]
  },
  {
   "cell_type": "code",
   "execution_count": 3,
   "id": "a6ce329c-4c25-49a7-a59d-4b0598f034cd",
   "metadata": {},
   "outputs": [],
   "source": [
    "#Current working directory\n",
    "#Path().resolve()\n",
    "\n",
    "input_path = '.\\data'"
   ]
  },
  {
   "cell_type": "code",
   "execution_count": 4,
   "id": "adf010ba-e53d-47e2-8bd4-3257718eee51",
   "metadata": {},
   "outputs": [],
   "source": [
    "from model.parameters import stations_montrouge, stations_paris, relevant_stations\n",
    "from model.parameters import week_ends, week_days"
   ]
  },
  {
   "cell_type": "markdown",
   "id": "f09b93a2-50e8-4419-b2bb-480c3b222532",
   "metadata": {
    "tags": []
   },
   "source": [
    "## Format of existing data"
   ]
  },
  {
   "cell_type": "code",
   "execution_count": 5,
   "id": "74b4b683-ad1a-4c7b-852e-39f6aa58d8d9",
   "metadata": {},
   "outputs": [],
   "source": [
    "#example_file = Path(input_path, \"Summary_2022-12-14.parquet\")\n",
    "#example_df = pd.read_parquet(example_file)\n",
    "#example_df"
   ]
  },
  {
   "cell_type": "markdown",
   "id": "7a840809-6263-4665-adf0-c9bd23cd4f40",
   "metadata": {},
   "source": [
    "## Total number of docking points available\n",
    "\n",
    "NB: \n",
    "* docks = docking points = bornettes en français dans le texte !\n",
    "* to generate current station status, the easiest way is to run `fetch_save_stations_info` directly from Python (as opposed to from a Notebook)."
   ]
  },
  {
   "cell_type": "markdown",
   "id": "9d5ca9ec-8fcb-44c6-8807-63a95b10f303",
   "metadata": {},
   "source": [
    "### Initial inquiry"
   ]
  },
  {
   "cell_type": "code",
   "execution_count": 6,
   "id": "f44bf85b-8536-40e7-b6c7-78e513cde650",
   "metadata": {},
   "outputs": [],
   "source": [
    "input_file = Path(input_path, \"station_info_2022-12-21.csv\")\n",
    "station_df = pd.read_csv(input_file)"
   ]
  },
  {
   "cell_type": "code",
   "execution_count": 7,
   "id": "be467c60-38c7-4a62-86d0-aa414e25c01d",
   "metadata": {},
   "outputs": [
    {
     "data": {
      "text/plain": [
       "1449"
      ]
     },
     "execution_count": 7,
     "metadata": {},
     "output_type": "execute_result"
    }
   ],
   "source": [
    "len(station_df)"
   ]
  },
  {
   "cell_type": "code",
   "execution_count": 8,
   "id": "de1d4f38-e872-4ad1-a939-edf8a3873405",
   "metadata": {
    "tags": []
   },
   "outputs": [
    {
     "data": {
      "text/html": [
       "<div>\n",
       "<style scoped>\n",
       "    .dataframe tbody tr th:only-of-type {\n",
       "        vertical-align: middle;\n",
       "    }\n",
       "\n",
       "    .dataframe tbody tr th {\n",
       "        vertical-align: top;\n",
       "    }\n",
       "\n",
       "    .dataframe thead th {\n",
       "        text-align: right;\n",
       "    }\n",
       "</style>\n",
       "<table border=\"1\" class=\"dataframe\">\n",
       "  <thead>\n",
       "    <tr style=\"text-align: right;\">\n",
       "      <th></th>\n",
       "      <th>stationCode</th>\n",
       "      <th>station_name</th>\n",
       "      <th>capacity</th>\n",
       "      <th>station_geo</th>\n",
       "      <th>credit_card</th>\n",
       "    </tr>\n",
       "  </thead>\n",
       "  <tbody>\n",
       "    <tr>\n",
       "      <th>716</th>\n",
       "      <td>2006</td>\n",
       "      <td>Place des Victoires</td>\n",
       "      <td>24</td>\n",
       "      <td>48.86604,2.34203</td>\n",
       "      <td>False</td>\n",
       "    </tr>\n",
       "    <tr>\n",
       "      <th>717</th>\n",
       "      <td>2008</td>\n",
       "      <td>Mairie du 2ème</td>\n",
       "      <td>28</td>\n",
       "      <td>48.86722,2.34046</td>\n",
       "      <td>False</td>\n",
       "    </tr>\n",
       "    <tr>\n",
       "      <th>718</th>\n",
       "      <td>2009</td>\n",
       "      <td>Filles Saint-Thomas - Place de la Bourse</td>\n",
       "      <td>58</td>\n",
       "      <td>48.86890,2.33975</td>\n",
       "      <td>False</td>\n",
       "    </tr>\n",
       "    <tr>\n",
       "      <th>796</th>\n",
       "      <td>2111</td>\n",
       "      <td>Chabanais - Petits Champs</td>\n",
       "      <td>30</td>\n",
       "      <td>48.86704,2.33672</td>\n",
       "      <td>False</td>\n",
       "    </tr>\n",
       "    <tr>\n",
       "      <th>804</th>\n",
       "      <td>2112</td>\n",
       "      <td>Bibliothèque Nationale - Richelieu</td>\n",
       "      <td>17</td>\n",
       "      <td>48.86829,2.33809</td>\n",
       "      <td>False</td>\n",
       "    </tr>\n",
       "    <tr>\n",
       "      <th>808</th>\n",
       "      <td>21205</td>\n",
       "      <td>Arthur Auger - Jean Jaurès</td>\n",
       "      <td>26</td>\n",
       "      <td>48.81374,2.30693</td>\n",
       "      <td>False</td>\n",
       "    </tr>\n",
       "    <tr>\n",
       "      <th>810</th>\n",
       "      <td>21209</td>\n",
       "      <td>Molière - République</td>\n",
       "      <td>30</td>\n",
       "      <td>48.81112,2.31457</td>\n",
       "      <td>False</td>\n",
       "    </tr>\n",
       "    <tr>\n",
       "      <th>811</th>\n",
       "      <td>21212</td>\n",
       "      <td>Marne - Germain Dardan</td>\n",
       "      <td>22</td>\n",
       "      <td>48.81154,2.30307</td>\n",
       "      <td>True</td>\n",
       "    </tr>\n",
       "    <tr>\n",
       "      <th>813</th>\n",
       "      <td>21215</td>\n",
       "      <td>Verdier - Jean Jaurès</td>\n",
       "      <td>33</td>\n",
       "      <td>48.81614,2.31236</td>\n",
       "      <td>True</td>\n",
       "    </tr>\n",
       "  </tbody>\n",
       "</table>\n",
       "</div>"
      ],
      "text/plain": [
       "     stationCode                              station_name  capacity  \\\n",
       "716         2006                       Place des Victoires        24   \n",
       "717         2008                            Mairie du 2ème        28   \n",
       "718         2009  Filles Saint-Thomas - Place de la Bourse        58   \n",
       "796         2111                 Chabanais - Petits Champs        30   \n",
       "804         2112        Bibliothèque Nationale - Richelieu        17   \n",
       "808        21205                Arthur Auger - Jean Jaurès        26   \n",
       "810        21209                      Molière - République        30   \n",
       "811        21212                    Marne - Germain Dardan        22   \n",
       "813        21215                     Verdier - Jean Jaurès        33   \n",
       "\n",
       "          station_geo  credit_card  \n",
       "716  48.86604,2.34203        False  \n",
       "717  48.86722,2.34046        False  \n",
       "718  48.86890,2.33975        False  \n",
       "796  48.86704,2.33672        False  \n",
       "804  48.86829,2.33809        False  \n",
       "808  48.81374,2.30693        False  \n",
       "810  48.81112,2.31457        False  \n",
       "811  48.81154,2.30307         True  \n",
       "813  48.81614,2.31236         True  "
      ]
     },
     "execution_count": 8,
     "metadata": {},
     "output_type": "execute_result"
    }
   ],
   "source": [
    "station_df[station_df[\"stationCode\"].astype(\"string\").isin(relevant_stations)]"
   ]
  },
  {
   "cell_type": "markdown",
   "id": "97b76626-896f-4cbf-84a0-da25b76243be",
   "metadata": {},
   "source": [
    "### Station info overview"
   ]
  },
  {
   "cell_type": "code",
   "execution_count": 9,
   "id": "cf87a41f-cd13-4e03-9adf-386c8a8da7ee",
   "metadata": {},
   "outputs": [],
   "source": [
    "station_infos = sorted(Path(input_path).glob('station_info*.csv'))\n",
    "#station_infos"
   ]
  },
  {
   "cell_type": "code",
   "execution_count": 10,
   "id": "4393b0db-c206-4d7d-8a26-8448b3a3d0f2",
   "metadata": {},
   "outputs": [],
   "source": [
    "def process_station_info(file_path):\n",
    "    \"\"\" Process data and return suitable dataframe \"\"\"\n",
    "    current_df = pd.read_csv(file_path)\n",
    "    current_date = file_path.name[13:-4]\n",
    "    current_df[\"date\"]=current_date\n",
    "    \n",
    "    return current_df"
   ]
  },
  {
   "cell_type": "code",
   "execution_count": 11,
   "id": "d3c7a6ca-e4ae-46e9-ae9e-cc76e9ed79c2",
   "metadata": {},
   "outputs": [],
   "source": [
    "#station_infos[5:] keep only input with headers\n",
    "output_df = pd.concat([process_station_info(file_path) for file_path in station_infos[5:]], ignore_index=True)"
   ]
  },
  {
   "cell_type": "code",
   "execution_count": 12,
   "id": "ebfdb138-0cd5-4c6e-929b-c378ee251047",
   "metadata": {},
   "outputs": [],
   "source": [
    "# NB: conversion to be really sure (the very last data point includes numbers instead of string)\n",
    "output_df[\"stationCode\"] = output_df[\"stationCode\"].astype(\"string\")"
   ]
  },
  {
   "cell_type": "code",
   "execution_count": 13,
   "id": "a60eb793-ada6-407d-bde0-7d304a19dbec",
   "metadata": {},
   "outputs": [
    {
     "data": {
      "text/plain": [
       "216070"
      ]
     },
     "execution_count": 13,
     "metadata": {},
     "output_type": "execute_result"
    }
   ],
   "source": [
    "#output_df.to_csv(\"overview_station_info.csv\")\n",
    "len(output_df)"
   ]
  },
  {
   "cell_type": "markdown",
   "id": "6643ff6f-922f-4aa9-8110-a3fecc3e755a",
   "metadata": {},
   "source": [
    "### Display capacity evolution\n",
    "\n",
    "Below, we generate a table of \"capacity\" *per* day and *per* station. We want to check whether these capacities remain constant with time! "
   ]
  },
  {
   "cell_type": "code",
   "execution_count": 14,
   "id": "43fe6ec3-31ec-41c5-a5d6-21e2a8cea1a8",
   "metadata": {},
   "outputs": [
    {
     "data": {
      "text/html": [
       "<div>\n",
       "<style scoped>\n",
       "    .dataframe tbody tr th:only-of-type {\n",
       "        vertical-align: middle;\n",
       "    }\n",
       "\n",
       "    .dataframe tbody tr th {\n",
       "        vertical-align: top;\n",
       "    }\n",
       "\n",
       "    .dataframe thead tr th {\n",
       "        text-align: left;\n",
       "    }\n",
       "\n",
       "    .dataframe thead tr:last-of-type th {\n",
       "        text-align: right;\n",
       "    }\n",
       "</style>\n",
       "<table border=\"1\" class=\"dataframe\">\n",
       "  <thead>\n",
       "    <tr>\n",
       "      <th></th>\n",
       "      <th colspan=\"9\" halign=\"left\">capacity</th>\n",
       "    </tr>\n",
       "    <tr>\n",
       "      <th>stationCode</th>\n",
       "      <th>2006</th>\n",
       "      <th>2008</th>\n",
       "      <th>2009</th>\n",
       "      <th>2111</th>\n",
       "      <th>2112</th>\n",
       "      <th>21205</th>\n",
       "      <th>21209</th>\n",
       "      <th>21212</th>\n",
       "      <th>21215</th>\n",
       "    </tr>\n",
       "    <tr>\n",
       "      <th>date</th>\n",
       "      <th></th>\n",
       "      <th></th>\n",
       "      <th></th>\n",
       "      <th></th>\n",
       "      <th></th>\n",
       "      <th></th>\n",
       "      <th></th>\n",
       "      <th></th>\n",
       "      <th></th>\n",
       "    </tr>\n",
       "  </thead>\n",
       "  <tbody>\n",
       "    <tr>\n",
       "      <th>2022-05-20</th>\n",
       "      <td>24</td>\n",
       "      <td>28</td>\n",
       "      <td>58</td>\n",
       "      <td>30</td>\n",
       "      <td>17</td>\n",
       "      <td>26</td>\n",
       "      <td>30</td>\n",
       "      <td>22</td>\n",
       "      <td>33</td>\n",
       "    </tr>\n",
       "    <tr>\n",
       "      <th>2022-05-21</th>\n",
       "      <td>24</td>\n",
       "      <td>28</td>\n",
       "      <td>58</td>\n",
       "      <td>30</td>\n",
       "      <td>17</td>\n",
       "      <td>26</td>\n",
       "      <td>30</td>\n",
       "      <td>22</td>\n",
       "      <td>33</td>\n",
       "    </tr>\n",
       "    <tr>\n",
       "      <th>2022-05-22</th>\n",
       "      <td>24</td>\n",
       "      <td>28</td>\n",
       "      <td>58</td>\n",
       "      <td>30</td>\n",
       "      <td>17</td>\n",
       "      <td>26</td>\n",
       "      <td>30</td>\n",
       "      <td>22</td>\n",
       "      <td>33</td>\n",
       "    </tr>\n",
       "    <tr>\n",
       "      <th>2022-05-23</th>\n",
       "      <td>24</td>\n",
       "      <td>28</td>\n",
       "      <td>58</td>\n",
       "      <td>30</td>\n",
       "      <td>17</td>\n",
       "      <td>26</td>\n",
       "      <td>30</td>\n",
       "      <td>22</td>\n",
       "      <td>33</td>\n",
       "    </tr>\n",
       "    <tr>\n",
       "      <th>2022-05-24</th>\n",
       "      <td>24</td>\n",
       "      <td>28</td>\n",
       "      <td>58</td>\n",
       "      <td>30</td>\n",
       "      <td>17</td>\n",
       "      <td>26</td>\n",
       "      <td>30</td>\n",
       "      <td>22</td>\n",
       "      <td>33</td>\n",
       "    </tr>\n",
       "    <tr>\n",
       "      <th>...</th>\n",
       "      <td>...</td>\n",
       "      <td>...</td>\n",
       "      <td>...</td>\n",
       "      <td>...</td>\n",
       "      <td>...</td>\n",
       "      <td>...</td>\n",
       "      <td>...</td>\n",
       "      <td>...</td>\n",
       "      <td>...</td>\n",
       "    </tr>\n",
       "    <tr>\n",
       "      <th>2022-10-12</th>\n",
       "      <td>24</td>\n",
       "      <td>28</td>\n",
       "      <td>58</td>\n",
       "      <td>30</td>\n",
       "      <td>17</td>\n",
       "      <td>26</td>\n",
       "      <td>30</td>\n",
       "      <td>22</td>\n",
       "      <td>33</td>\n",
       "    </tr>\n",
       "    <tr>\n",
       "      <th>2022-10-13</th>\n",
       "      <td>24</td>\n",
       "      <td>28</td>\n",
       "      <td>58</td>\n",
       "      <td>30</td>\n",
       "      <td>17</td>\n",
       "      <td>26</td>\n",
       "      <td>30</td>\n",
       "      <td>22</td>\n",
       "      <td>33</td>\n",
       "    </tr>\n",
       "    <tr>\n",
       "      <th>2022-10-14</th>\n",
       "      <td>24</td>\n",
       "      <td>28</td>\n",
       "      <td>58</td>\n",
       "      <td>30</td>\n",
       "      <td>17</td>\n",
       "      <td>26</td>\n",
       "      <td>30</td>\n",
       "      <td>22</td>\n",
       "      <td>33</td>\n",
       "    </tr>\n",
       "    <tr>\n",
       "      <th>2022-10-15</th>\n",
       "      <td>24</td>\n",
       "      <td>28</td>\n",
       "      <td>58</td>\n",
       "      <td>30</td>\n",
       "      <td>17</td>\n",
       "      <td>26</td>\n",
       "      <td>30</td>\n",
       "      <td>22</td>\n",
       "      <td>33</td>\n",
       "    </tr>\n",
       "    <tr>\n",
       "      <th>2022-12-21</th>\n",
       "      <td>24</td>\n",
       "      <td>28</td>\n",
       "      <td>58</td>\n",
       "      <td>30</td>\n",
       "      <td>17</td>\n",
       "      <td>26</td>\n",
       "      <td>30</td>\n",
       "      <td>22</td>\n",
       "      <td>33</td>\n",
       "    </tr>\n",
       "  </tbody>\n",
       "</table>\n",
       "<p>150 rows × 9 columns</p>\n",
       "</div>"
      ],
      "text/plain": [
       "            capacity                                                \n",
       "stationCode    2006  2008  2009  2111  2112  21205 21209 21212 21215\n",
       "date                                                                \n",
       "2022-05-20        24    28    58    30    17    26    30    22    33\n",
       "2022-05-21        24    28    58    30    17    26    30    22    33\n",
       "2022-05-22        24    28    58    30    17    26    30    22    33\n",
       "2022-05-23        24    28    58    30    17    26    30    22    33\n",
       "2022-05-24        24    28    58    30    17    26    30    22    33\n",
       "...              ...   ...   ...   ...   ...   ...   ...   ...   ...\n",
       "2022-10-12        24    28    58    30    17    26    30    22    33\n",
       "2022-10-13        24    28    58    30    17    26    30    22    33\n",
       "2022-10-14        24    28    58    30    17    26    30    22    33\n",
       "2022-10-15        24    28    58    30    17    26    30    22    33\n",
       "2022-12-21        24    28    58    30    17    26    30    22    33\n",
       "\n",
       "[150 rows x 9 columns]"
      ]
     },
     "execution_count": 14,
     "metadata": {},
     "output_type": "execute_result"
    }
   ],
   "source": [
    "reduced_df = output_df[output_df[\"stationCode\"].isin(relevant_stations)].reset_index()[[\"stationCode\", \"capacity\", \"date\"]]\n",
    "evol_data = reduced_df.pivot(index=\"date\", columns=[\"stationCode\"])\n",
    "evol_data"
   ]
  },
  {
   "cell_type": "code",
   "execution_count": 15,
   "id": "d7fb75d4-f172-4bb1-90dc-59783061ca9d",
   "metadata": {},
   "outputs": [
    {
     "name": "stdout",
     "output_type": "stream",
     "text": [
      "Unique values for station 21209:\n",
      "[30]\n",
      "Unique values for station 21205:\n",
      "[26]\n",
      "Unique values for station 21212:\n",
      "[22]\n",
      "Unique values for station 21215:\n",
      "[33]\n",
      "Unique values for station 2006:\n",
      "[24]\n",
      "Unique values for station 2009:\n",
      "[58]\n",
      "Unique values for station 2112:\n",
      "[17]\n",
      "Unique values for station 2008:\n",
      "[28]\n",
      "Unique values for station 2111:\n",
      "[30]\n"
     ]
    }
   ],
   "source": [
    "for stationCode in relevant_stations:\n",
    "    print(\"Unique values for station {}:\".format(stationCode))\n",
    "    print(evol_data[(\"capacity\", stationCode)].unique())"
   ]
  },
  {
   "cell_type": "markdown",
   "id": "bf57cec8-34e6-43a8-b4f8-01d4001fd831",
   "metadata": {},
   "source": [
    "The previous loop shows that for the 9 stations under consideration, `'capacity'` is constant over the observation period.\n",
    "\n",
    "NB: to be absolutely exact, \n",
    "* we did not record these values after 2022-10-15, except for a one-off recording on 2022-12-21;\n",
    "* we did not use records before 2022-05-20.\n",
    "\n",
    "Based on the data we have, it would be possible to investigation which stations saw there 'capacity' evolve over the observation period."
   ]
  },
  {
   "cell_type": "markdown",
   "id": "7781f4db-2f2f-484e-8d78-4ad6cc0ab671",
   "metadata": {},
   "source": [
    "#### Special case of 22202 and its variable capacity\n",
    "\n",
    "Let us investigate the case of 22202 and its capacity of 30 and 0!"
   ]
  },
  {
   "cell_type": "code",
   "execution_count": 17,
   "id": "02bea11c-07f1-473a-8f61-06c1a9198fa6",
   "metadata": {},
   "outputs": [],
   "source": [
    "#(evol_data[('capacity', '22202')] == 0).sum()"
   ]
  },
  {
   "cell_type": "markdown",
   "id": "03fb64fb-8a63-47ec-a0f8-3ae9802bd66f",
   "metadata": {},
   "source": [
    "There is only one data point where '22202' has capacity 0, and since on 2022-12-21 it had capacity 0, we can safely assume that its \"real\" capacity is 30."
   ]
  },
  {
   "cell_type": "markdown",
   "id": "d028396d-b93f-4358-98c6-3614c992e6d6",
   "metadata": {},
   "source": [
    "### Number of docking points available - summary\n",
    "\n",
    "Taking the (reasonable) assumption that the capacities of our 4 stations of interest were constant over the observation period, we can summarize their capacities in the series below: "
   ]
  },
  {
   "cell_type": "code",
   "execution_count": 18,
   "id": "5595da99-26f9-4757-bc26-afad7091105b",
   "metadata": {},
   "outputs": [],
   "source": [
    "from model.parameters import capacity_series"
   ]
  },
  {
   "cell_type": "markdown",
   "id": "91b6a9ca-1789-4d89-9115-19f264f5945e",
   "metadata": {},
   "source": [
    "## Access parquet files - daily summaries\n",
    "\n",
    "From the \"last modified\" dates, it appears that the data is \"regular\" (*i.e.* without manual manipulations) from 2022-05-20 onwards!\n",
    "\n",
    "As a first iteration, it seems acceptable to start with this data only! (rows noted `parquet_files[20:]` as of 2022-12-21)"
   ]
  },
  {
   "cell_type": "markdown",
   "id": "f7f7b6ee-7bdf-4a16-b85f-41d050b67518",
   "metadata": {},
   "source": [
    "### Compile daily summaries"
   ]
  },
  {
   "cell_type": "code",
   "execution_count": 19,
   "id": "24b6ee2b-9f55-4e22-bb86-3fb890268b7c",
   "metadata": {},
   "outputs": [],
   "source": [
    "parquet_files = list(Path(input_path).glob('*.parquet'))\n",
    "#parquet_files[:5]"
   ]
  },
  {
   "cell_type": "code",
   "execution_count": 20,
   "id": "9d7f78f0-d93a-4aa9-9c81-17559cb23878",
   "metadata": {},
   "outputs": [
    {
     "data": {
      "text/plain": [
       "WindowsPath('data/Summary_2022-05-20.parquet')"
      ]
     },
     "execution_count": 20,
     "metadata": {},
     "output_type": "execute_result"
    }
   ],
   "source": [
    "parquet_files[20]"
   ]
  },
  {
   "cell_type": "code",
   "execution_count": 21,
   "id": "ea86f519-0d64-44f1-a49b-c53f623e9a9b",
   "metadata": {},
   "outputs": [],
   "source": [
    "def process_daily_summaries(file_path, current_stations=stations_paris):\n",
    "    \"\"\" Process data and return suitable dataframe \"\"\"\n",
    "    current_df = pd.read_parquet(file_path, columns=[\"file_time\", \"stationCode\", \"available_mechanical\", \"available_electrical\"])\n",
    "    current_df[\"stationCode\"] = current_df[\"stationCode\"].astype(\"string\")\n",
    "    \n",
    "    # Keep only stations of interest\n",
    "    current_df = current_df[current_df[\"stationCode\"].isin(current_stations)]\n",
    "    \n",
    "    return current_df"
   ]
  },
  {
   "cell_type": "code",
   "execution_count": 22,
   "id": "66c7dd9e-8960-49f7-a9eb-8258c17cde73",
   "metadata": {
    "tags": []
   },
   "outputs": [
    {
     "data": {
      "text/html": [
       "<div>\n",
       "<style scoped>\n",
       "    .dataframe tbody tr th:only-of-type {\n",
       "        vertical-align: middle;\n",
       "    }\n",
       "\n",
       "    .dataframe tbody tr th {\n",
       "        vertical-align: top;\n",
       "    }\n",
       "\n",
       "    .dataframe thead th {\n",
       "        text-align: right;\n",
       "    }\n",
       "</style>\n",
       "<table border=\"1\" class=\"dataframe\">\n",
       "  <thead>\n",
       "    <tr style=\"text-align: right;\">\n",
       "      <th></th>\n",
       "      <th>stationCode</th>\n",
       "      <th>available_mechanical</th>\n",
       "      <th>available_electrical</th>\n",
       "    </tr>\n",
       "    <tr>\n",
       "      <th>file_time</th>\n",
       "      <th></th>\n",
       "      <th></th>\n",
       "      <th></th>\n",
       "    </tr>\n",
       "  </thead>\n",
       "  <tbody>\n",
       "    <tr>\n",
       "      <th>2022-05-20 00:00:08+02:00</th>\n",
       "      <td>2112</td>\n",
       "      <td>0.0</td>\n",
       "      <td>1.0</td>\n",
       "    </tr>\n",
       "    <tr>\n",
       "      <th>2022-05-20 00:00:08+02:00</th>\n",
       "      <td>21205</td>\n",
       "      <td>3.0</td>\n",
       "      <td>9.0</td>\n",
       "    </tr>\n",
       "    <tr>\n",
       "      <th>2022-05-20 00:00:08+02:00</th>\n",
       "      <td>2008</td>\n",
       "      <td>1.0</td>\n",
       "      <td>0.0</td>\n",
       "    </tr>\n",
       "    <tr>\n",
       "      <th>2022-05-20 00:00:08+02:00</th>\n",
       "      <td>2009</td>\n",
       "      <td>4.0</td>\n",
       "      <td>0.0</td>\n",
       "    </tr>\n",
       "    <tr>\n",
       "      <th>2022-05-20 00:00:08+02:00</th>\n",
       "      <td>21215</td>\n",
       "      <td>15.0</td>\n",
       "      <td>1.0</td>\n",
       "    </tr>\n",
       "    <tr>\n",
       "      <th>...</th>\n",
       "      <td>...</td>\n",
       "      <td>...</td>\n",
       "      <td>...</td>\n",
       "    </tr>\n",
       "    <tr>\n",
       "      <th>2022-12-18 23:50:08+01:00</th>\n",
       "      <td>2008</td>\n",
       "      <td>5.0</td>\n",
       "      <td>0.0</td>\n",
       "    </tr>\n",
       "    <tr>\n",
       "      <th>2022-12-18 23:50:08+01:00</th>\n",
       "      <td>2009</td>\n",
       "      <td>1.0</td>\n",
       "      <td>3.0</td>\n",
       "    </tr>\n",
       "    <tr>\n",
       "      <th>2022-12-18 23:50:08+01:00</th>\n",
       "      <td>21209</td>\n",
       "      <td>0.0</td>\n",
       "      <td>1.0</td>\n",
       "    </tr>\n",
       "    <tr>\n",
       "      <th>2022-12-18 23:50:08+01:00</th>\n",
       "      <td>21212</td>\n",
       "      <td>0.0</td>\n",
       "      <td>1.0</td>\n",
       "    </tr>\n",
       "    <tr>\n",
       "      <th>2022-12-18 23:50:08+01:00</th>\n",
       "      <td>2111</td>\n",
       "      <td>8.0</td>\n",
       "      <td>1.0</td>\n",
       "    </tr>\n",
       "  </tbody>\n",
       "</table>\n",
       "<p>246222 rows × 3 columns</p>\n",
       "</div>"
      ],
      "text/plain": [
       "                          stationCode  available_mechanical  \\\n",
       "file_time                                                     \n",
       "2022-05-20 00:00:08+02:00        2112                   0.0   \n",
       "2022-05-20 00:00:08+02:00       21205                   3.0   \n",
       "2022-05-20 00:00:08+02:00        2008                   1.0   \n",
       "2022-05-20 00:00:08+02:00        2009                   4.0   \n",
       "2022-05-20 00:00:08+02:00       21215                  15.0   \n",
       "...                               ...                   ...   \n",
       "2022-12-18 23:50:08+01:00        2008                   5.0   \n",
       "2022-12-18 23:50:08+01:00        2009                   1.0   \n",
       "2022-12-18 23:50:08+01:00       21209                   0.0   \n",
       "2022-12-18 23:50:08+01:00       21212                   0.0   \n",
       "2022-12-18 23:50:08+01:00        2111                   8.0   \n",
       "\n",
       "                           available_electrical  \n",
       "file_time                                        \n",
       "2022-05-20 00:00:08+02:00                   1.0  \n",
       "2022-05-20 00:00:08+02:00                   9.0  \n",
       "2022-05-20 00:00:08+02:00                   0.0  \n",
       "2022-05-20 00:00:08+02:00                   0.0  \n",
       "2022-05-20 00:00:08+02:00                   1.0  \n",
       "...                                         ...  \n",
       "2022-12-18 23:50:08+01:00                   0.0  \n",
       "2022-12-18 23:50:08+01:00                   3.0  \n",
       "2022-12-18 23:50:08+01:00                   1.0  \n",
       "2022-12-18 23:50:08+01:00                   1.0  \n",
       "2022-12-18 23:50:08+01:00                   1.0  \n",
       "\n",
       "[246222 rows x 3 columns]"
      ]
     },
     "execution_count": 22,
     "metadata": {},
     "output_type": "execute_result"
    }
   ],
   "source": [
    "summary_df = pd.concat(process_daily_summaries(file_path, relevant_stations) for file_path in parquet_files[20:])\n",
    "summary_df"
   ]
  },
  {
   "cell_type": "markdown",
   "id": "8d825f85-c710-40c6-a2df-1dfecce1b3da",
   "metadata": {},
   "source": [
    "### Preprocessing - capacities and time variables"
   ]
  },
  {
   "cell_type": "code",
   "execution_count": 23,
   "id": "089eaec3-c751-4918-a89b-111b0343e532",
   "metadata": {},
   "outputs": [],
   "source": [
    "# Merge with capacities\n",
    "aux = summary_df.merge(capacity_series, left_on=\"stationCode\", right_index=True)\n",
    "\n",
    "#aux.groupby([\"stationCode\"])[\"capacity\"].unique()"
   ]
  },
  {
   "cell_type": "code",
   "execution_count": 24,
   "id": "22f778eb-e512-40d3-8140-cdd1f5515e28",
   "metadata": {},
   "outputs": [],
   "source": [
    "aux[\"free_docks\"] = aux[\"capacity\"] - aux[\"available_mechanical\"] - aux[\"available_electrical\"]"
   ]
  },
  {
   "cell_type": "code",
   "execution_count": 25,
   "id": "d1f461bf-187d-43fb-bed8-006738dfcc35",
   "metadata": {},
   "outputs": [
    {
     "data": {
      "text/plain": [
       "0.0"
      ]
     },
     "execution_count": 25,
     "metadata": {},
     "output_type": "execute_result"
    }
   ],
   "source": [
    "# Sanity check: always positive?\n",
    "aux[\"free_docks\"].min()"
   ]
  },
  {
   "cell_type": "code",
   "execution_count": 26,
   "id": "cb9e1bc1-2327-4105-a9da-905e561f9195",
   "metadata": {},
   "outputs": [],
   "source": [
    "aux[\"free_docks_ratio\"] = aux[\"free_docks\"]/aux[\"capacity\"]"
   ]
  },
  {
   "cell_type": "code",
   "execution_count": 27,
   "id": "aa329a5e-a9a1-49d4-a7b0-94ac3c0a8af4",
   "metadata": {},
   "outputs": [
    {
     "data": {
      "text/plain": [
       "1.0"
      ]
     },
     "execution_count": 27,
     "metadata": {},
     "output_type": "execute_result"
    }
   ],
   "source": [
    "aux[\"free_docks_ratio\"].max()"
   ]
  },
  {
   "cell_type": "code",
   "execution_count": 28,
   "id": "157f0031-c315-40a7-985a-62b873f9db66",
   "metadata": {},
   "outputs": [
    {
     "data": {
      "text/plain": [
       "0.0"
      ]
     },
     "execution_count": 28,
     "metadata": {},
     "output_type": "execute_result"
    }
   ],
   "source": [
    "aux[\"free_docks_ratio\"].min()"
   ]
  },
  {
   "cell_type": "code",
   "execution_count": 29,
   "id": "3d66e975-55a3-4283-92a0-e978db91f82b",
   "metadata": {},
   "outputs": [],
   "source": [
    "aux[\"local_hour\"] = aux.index.hour"
   ]
  },
  {
   "cell_type": "code",
   "execution_count": 30,
   "id": "960a7c2a-2ca6-4e6a-82b3-040f7939f1e1",
   "metadata": {},
   "outputs": [],
   "source": [
    "aux[\"local_minute\"] = aux.index.minute"
   ]
  },
  {
   "cell_type": "code",
   "execution_count": 31,
   "id": "c098f21a-180c-4c1a-b39f-ec6c48b3e7ae",
   "metadata": {},
   "outputs": [],
   "source": [
    "aux[\"week_day\"] = aux.index.weekday"
   ]
  },
  {
   "cell_type": "markdown",
   "id": "d4bd1bd5-97c4-4667-a8fa-10c1b4397a8d",
   "metadata": {},
   "source": [
    "### Statistics on period of interest\n",
    "\n",
    "As an initial investigation, we could simply keep (and display) statistics for the period of interest."
   ]
  },
  {
   "cell_type": "code",
   "execution_count": 32,
   "id": "365f0fea-2d94-4e7a-bdb4-6691411590df",
   "metadata": {},
   "outputs": [],
   "source": [
    "def compute_hist(stationCode, local_hour, local_minute, week_day=None):\n",
    "    \"\"\" Display histogram of 'free_docks' for specified station and local time\n",
    "    \n",
    "    Args:\n",
    "        * stationCode should be provided as a string.\n",
    "        * week_day should be a list of integers (0=Monday, 6=Sunday)\n",
    "    \"\"\"\n",
    "    mask = (aux[\"stationCode\"]==stationCode)&(aux[\"local_hour\"]==local_hour)&(aux[\"local_minute\"]==local_minute)\n",
    "    \n",
    "    if week_day:\n",
    "        mask = mask & (aux[\"week_day\"].isin(week_day))\n",
    "    \n",
    "    return aux[mask][\"free_docks\"].value_counts().sort_index().reindex(range(0, capacity_series.loc[stationCode]+1), fill_value=0)"
   ]
  },
  {
   "cell_type": "code",
   "execution_count": 33,
   "id": "ca81a6b8-1767-46be-a4ea-71dd8da4f6a9",
   "metadata": {},
   "outputs": [],
   "source": [
    "def display_hist_ratio(stationCode, local_hour, local_minute, week_day=None, bins=20):\n",
    "    \"\"\" Display histogram of 'free_docks' for specified station and local time\n",
    "    \n",
    "    Args:\n",
    "        * stationCode should be provided as a string.\n",
    "        * week_day should be a list of integers (0=Monday, 6=Sunday)\n",
    "    \"\"\"\n",
    "    mask = (aux[\"stationCode\"]==stationCode)&(aux[\"local_hour\"]==local_hour)&(aux[\"local_minute\"]==local_minute)\n",
    "    \n",
    "    if week_day:\n",
    "        mask = mask & (aux[\"week_day\"].isin(week_day))\n",
    "    \n",
    "    return aux[mask][\"free_docks_ratio\"].plot.hist(bins=bins, xlim=[0,1])"
   ]
  },
  {
   "cell_type": "markdown",
   "id": "58ea5775-1f4a-401a-ae0a-4fe508dd353c",
   "metadata": {},
   "source": [
    "#### Graphs for 2112 (BNF station)"
   ]
  },
  {
   "cell_type": "code",
   "execution_count": 34,
   "id": "d0c537cf-2235-468d-9d2a-878e7a9e1517",
   "metadata": {},
   "outputs": [
    {
     "data": {
      "text/plain": [
       "<AxesSubplot:ylabel='Frequency'>"
      ]
     },
     "execution_count": 34,
     "metadata": {},
     "output_type": "execute_result"
    },
    {
     "data": {
      "image/png": "[encoded data removed]",
      "text/plain": [
       "<Figure size 432x288 with 1 Axes>"
      ]
     },
     "metadata": {
      "needs_background": "light"
     },
     "output_type": "display_data"
    }
   ],
   "source": [
    "display_hist_ratio(\"2112\", 9, 20, week_days, bins=20)"
   ]
  },
  {
   "cell_type": "code",
   "execution_count": 35,
   "id": "5693f34e-9420-47f1-b363-87e0846c03ab",
   "metadata": {},
   "outputs": [
    {
     "data": {
      "text/plain": [
       "0      6\n",
       "1      6\n",
       "2      5\n",
       "3      9\n",
       "4      6\n",
       "5      7\n",
       "6     14\n",
       "7     15\n",
       "8     17\n",
       "9     16\n",
       "10    23\n",
       "11     9\n",
       "12     7\n",
       "13     8\n",
       "14    10\n",
       "15    12\n",
       "16    14\n",
       "17     7\n",
       "Name: free_docks, dtype: int64"
      ]
     },
     "execution_count": 35,
     "metadata": {},
     "output_type": "execute_result"
    }
   ],
   "source": [
    "compute_hist(\"2112\", 9, 20)"
   ]
  },
  {
   "cell_type": "code",
   "execution_count": 36,
   "id": "2f78eff7-ef62-4d74-9e12-6f6c9ef5eef5",
   "metadata": {},
   "outputs": [
    {
     "data": {
      "text/plain": [
       "<AxesSubplot:>"
      ]
     },
     "execution_count": 36,
     "metadata": {},
     "output_type": "execute_result"
    },
    {
     "data": {
      "image/png": "[encoded data removed]",
      "text/plain": [
       "<Figure size 432x288 with 1 Axes>"
      ]
     },
     "metadata": {
      "needs_background": "light"
     },
     "output_type": "display_data"
    }
   ],
   "source": [
    "# For week-ends\n",
    "compute_hist(\"2112\", 9, 20, week_ends).plot.bar()"
   ]
  },
  {
   "cell_type": "code",
   "execution_count": 37,
   "id": "eeefa670-148a-41cb-b604-e4840cac5695",
   "metadata": {},
   "outputs": [
    {
     "data": {
      "text/plain": [
       "<AxesSubplot:>"
      ]
     },
     "execution_count": 37,
     "metadata": {},
     "output_type": "execute_result"
    },
    {
     "data": {
      "image/png": "[encoded data removed]",
      "text/plain": [
       "<Figure size 432x288 with 1 Axes>"
      ]
     },
     "metadata": {
      "needs_background": "light"
     },
     "output_type": "display_data"
    }
   ],
   "source": [
    "# During the week (no week-ends)\n",
    "compute_hist(\"2112\", 9, 20, week_days).plot.bar()"
   ]
  },
  {
   "cell_type": "code",
   "execution_count": 38,
   "id": "0b82d12e-4984-4dd0-a6ad-5596504c4474",
   "metadata": {},
   "outputs": [
    {
     "data": {
      "text/plain": [
       "<AxesSubplot:>"
      ]
     },
     "execution_count": 38,
     "metadata": {},
     "output_type": "execute_result"
    },
    {
     "data": {
      "image/png": "[encoded data removed]",
      "text/plain": [
       "<Figure size 432x288 with 1 Axes>"
      ]
     },
     "metadata": {
      "needs_background": "light"
     },
     "output_type": "display_data"
    }
   ],
   "source": [
    "compute_hist(\"2112\", 9, 30, week_days).plot.bar()"
   ]
  },
  {
   "cell_type": "code",
   "execution_count": 39,
   "id": "eb7f4d62-d24b-4755-a38f-7134334fafcb",
   "metadata": {
    "tags": []
   },
   "outputs": [
    {
     "data": {
      "text/plain": [
       "<AxesSubplot:>"
      ]
     },
     "execution_count": 39,
     "metadata": {},
     "output_type": "execute_result"
    },
    {
     "data": {
      "image/png": "[encoded data removed]",
      "text/plain": [
       "<Figure size 432x288 with 1 Axes>"
      ]
     },
     "metadata": {
      "needs_background": "light"
     },
     "output_type": "display_data"
    }
   ],
   "source": [
    "compute_hist(\"2112\", 9, 40, week_days).plot.bar()"
   ]
  },
  {
   "cell_type": "code",
   "execution_count": 40,
   "id": "205cc167-9c4a-4a05-89d7-3b8946ca34aa",
   "metadata": {
    "tags": []
   },
   "outputs": [
    {
     "data": {
      "text/plain": [
       "<AxesSubplot:>"
      ]
     },
     "execution_count": 40,
     "metadata": {},
     "output_type": "execute_result"
    },
    {
     "data": {
      "image/png": "[encoded data removed]",
      "text/plain": [
       "<Figure size 432x288 with 1 Axes>"
      ]
     },
     "metadata": {
      "needs_background": "light"
     },
     "output_type": "display_data"
    }
   ],
   "source": [
    "compute_hist(\"2112\", 3, 30).plot.bar()"
   ]
  },
  {
   "cell_type": "code",
   "execution_count": 41,
   "id": "88daf97e-5865-4321-b0ef-cd91a7f15024",
   "metadata": {
    "tags": []
   },
   "outputs": [
    {
     "data": {
      "text/plain": [
       "<AxesSubplot:>"
      ]
     },
     "execution_count": 41,
     "metadata": {},
     "output_type": "execute_result"
    },
    {
     "data": {
      "image/png": "[encoded data removed]",
      "text/plain": [
       "<Figure size 432x288 with 1 Axes>"
      ]
     },
     "metadata": {
      "needs_background": "light"
     },
     "output_type": "display_data"
    }
   ],
   "source": [
    "compute_hist(\"2112\", 3, 30, week_days).plot.bar()"
   ]
  },
  {
   "cell_type": "code",
   "execution_count": 42,
   "id": "3a5f36f2-8d82-41a7-a95d-e4ec9e18d24a",
   "metadata": {
    "tags": []
   },
   "outputs": [
    {
     "data": {
      "text/plain": [
       "<AxesSubplot:>"
      ]
     },
     "execution_count": 42,
     "metadata": {},
     "output_type": "execute_result"
    },
    {
     "data": {
      "image/png": "[encoded data removed]",
      "text/plain": [
       "<Figure size 432x288 with 1 Axes>"
      ]
     },
     "metadata": {
      "needs_background": "light"
     },
     "output_type": "display_data"
    }
   ],
   "source": [
    "compute_hist(\"2112\", 3, 30, week_ends).plot.bar()"
   ]
  },
  {
   "cell_type": "markdown",
   "id": "99a0a136-15fa-4162-8254-b2ae430b225f",
   "metadata": {},
   "source": [
    "#### Graphs for 2008 (Mairie du 2ème)"
   ]
  },
  {
   "cell_type": "code",
   "execution_count": 43,
   "id": "4ebbcfac-486d-406b-9ed8-97921f04ce45",
   "metadata": {
    "tags": []
   },
   "outputs": [
    {
     "data": {
      "text/plain": [
       "<AxesSubplot:>"
      ]
     },
     "execution_count": 43,
     "metadata": {},
     "output_type": "execute_result"
    },
    {
     "data": {
      "image/png": "[encoded data removed]",
      "text/plain": [
       "<Figure size 432x288 with 1 Axes>"
      ]
     },
     "metadata": {
      "needs_background": "light"
     },
     "output_type": "display_data"
    }
   ],
   "source": [
    "compute_hist(\"2008\", 9, 20).plot.bar()"
   ]
  },
  {
   "cell_type": "code",
   "execution_count": 44,
   "id": "437f560c-0b77-4a87-8d34-8ed12060b0f3",
   "metadata": {
    "tags": []
   },
   "outputs": [
    {
     "data": {
      "text/plain": [
       "<AxesSubplot:>"
      ]
     },
     "execution_count": 44,
     "metadata": {},
     "output_type": "execute_result"
    },
    {
     "data": {
      "image/png": "[encoded data removed]",
      "text/plain": [
       "<Figure size 432x288 with 1 Axes>"
      ]
     },
     "metadata": {
      "needs_background": "light"
     },
     "output_type": "display_data"
    }
   ],
   "source": [
    "compute_hist(\"2008\", 9, 20, week_days).plot.bar()"
   ]
  },
  {
   "cell_type": "code",
   "execution_count": 45,
   "id": "425fd0f8-22bc-49a2-8b33-ad14b1afa5da",
   "metadata": {
    "tags": []
   },
   "outputs": [
    {
     "data": {
      "text/plain": [
       "<AxesSubplot:>"
      ]
     },
     "execution_count": 45,
     "metadata": {},
     "output_type": "execute_result"
    },
    {
     "data": {
      "image/png": "[encoded data removed]",
      "text/plain": [
       "<Figure size 432x288 with 1 Axes>"
      ]
     },
     "metadata": {
      "needs_background": "light"
     },
     "output_type": "display_data"
    }
   ],
   "source": [
    "compute_hist(\"2008\", 9, 30, week_ends).plot.bar()"
   ]
  },
  {
   "cell_type": "code",
   "execution_count": 46,
   "id": "1e3d4112-06dc-468d-a6e7-e21b6f925eaa",
   "metadata": {},
   "outputs": [
    {
     "data": {
      "text/plain": [
       "<AxesSubplot:>"
      ]
     },
     "execution_count": 46,
     "metadata": {},
     "output_type": "execute_result"
    },
    {
     "data": {
      "image/png": "[encoded data removed]",
      "text/plain": [
       "<Figure size 432x288 with 1 Axes>"
      ]
     },
     "metadata": {
      "needs_background": "light"
     },
     "output_type": "display_data"
    }
   ],
   "source": [
    "compute_hist(\"2008\", 9, 30, week_days).plot.bar()"
   ]
  },
  {
   "cell_type": "code",
   "execution_count": 47,
   "id": "a3d1dc8b-a462-4ba2-a345-5f3bc95dd4c8",
   "metadata": {},
   "outputs": [
    {
     "data": {
      "text/plain": [
       "<AxesSubplot:>"
      ]
     },
     "execution_count": 47,
     "metadata": {},
     "output_type": "execute_result"
    },
    {
     "data": {
      "image/png": "[encoded data removed]",
      "text/plain": [
       "<Figure size 432x288 with 1 Axes>"
      ]
     },
     "metadata": {
      "needs_background": "light"
     },
     "output_type": "display_data"
    }
   ],
   "source": [
    "compute_hist(\"2008\", 9, 40, week_days).plot.bar()"
   ]
  },
  {
   "cell_type": "code",
   "execution_count": 48,
   "id": "e805319c-4d66-4b56-bd87-35e3f28c5838",
   "metadata": {},
   "outputs": [
    {
     "data": {
      "text/plain": [
       "<AxesSubplot:>"
      ]
     },
     "execution_count": 48,
     "metadata": {},
     "output_type": "execute_result"
    },
    {
     "data": {
      "image/png": "[encoded data removed]",
      "text/plain": [
       "<Figure size 432x288 with 1 Axes>"
      ]
     },
     "metadata": {
      "needs_background": "light"
     },
     "output_type": "display_data"
    }
   ],
   "source": [
    "compute_hist(\"2008\", 3, 30).plot.bar()"
   ]
  },
  {
   "cell_type": "markdown",
   "id": "53b1f73f-a45e-4242-a678-60af0cf185bb",
   "metadata": {},
   "source": [
    "#### Graphs for 2009 (Filles Saint-Thomas - Place de la Bourse)"
   ]
  },
  {
   "cell_type": "code",
   "execution_count": 49,
   "id": "98ddf0b7-39d4-415e-86af-9dfa5a652074",
   "metadata": {},
   "outputs": [
    {
     "data": {
      "text/plain": [
       "<AxesSubplot:>"
      ]
     },
     "execution_count": 49,
     "metadata": {},
     "output_type": "execute_result"
    },
    {
     "data": {
      "image/png": "[encoded data removed]",
      "text/plain": [
       "<Figure size 432x288 with 1 Axes>"
      ]
     },
     "metadata": {
      "needs_background": "light"
     },
     "output_type": "display_data"
    }
   ],
   "source": [
    "compute_hist(\"2009\", 9, 20, week_days).plot.bar()"
   ]
  },
  {
   "cell_type": "code",
   "execution_count": 50,
   "id": "81100175-c404-4bb0-821d-d63dc4a3d79a",
   "metadata": {},
   "outputs": [
    {
     "data": {
      "text/plain": [
       "<AxesSubplot:>"
      ]
     },
     "execution_count": 50,
     "metadata": {},
     "output_type": "execute_result"
    },
    {
     "data": {
      "image/png": "[encoded data removed]",
      "text/plain": [
       "<Figure size 432x288 with 1 Axes>"
      ]
     },
     "metadata": {
      "needs_background": "light"
     },
     "output_type": "display_data"
    }
   ],
   "source": [
    "compute_hist(\"2009\", 9, 30, week_days).plot.bar()"
   ]
  },
  {
   "cell_type": "code",
   "execution_count": 51,
   "id": "363f7919-5d38-44ea-b0f7-98f1cb40f3e1",
   "metadata": {},
   "outputs": [
    {
     "data": {
      "text/plain": [
       "<AxesSubplot:>"
      ]
     },
     "execution_count": 51,
     "metadata": {},
     "output_type": "execute_result"
    },
    {
     "data": {
      "image/png": "[encoded data removed]",
      "text/plain": [
       "<Figure size 432x288 with 1 Axes>"
      ]
     },
     "metadata": {
      "needs_background": "light"
     },
     "output_type": "display_data"
    }
   ],
   "source": [
    "compute_hist(\"2009\", 9, 40, week_days).plot.bar()"
   ]
  },
  {
   "cell_type": "code",
   "execution_count": 52,
   "id": "44285875-87c1-4eba-9922-05ea07d65c37",
   "metadata": {},
   "outputs": [
    {
     "data": {
      "text/plain": [
       "<AxesSubplot:>"
      ]
     },
     "execution_count": 52,
     "metadata": {},
     "output_type": "execute_result"
    },
    {
     "data": {
      "image/png": "[encoded data removed]",
      "text/plain": [
       "<Figure size 432x288 with 1 Axes>"
      ]
     },
     "metadata": {
      "needs_background": "light"
     },
     "output_type": "display_data"
    }
   ],
   "source": [
    "compute_hist(\"2009\", 3, 30, week_days).plot.bar()"
   ]
  },
  {
   "cell_type": "markdown",
   "id": "5d7140be-d959-4001-9eed-d6c6ac8b1edb",
   "metadata": {},
   "source": [
    "#### Comparison across stations"
   ]
  },
  {
   "cell_type": "code",
   "execution_count": 53,
   "id": "3ae926f8-902d-46e3-b1c7-7167afeabf4a",
   "metadata": {},
   "outputs": [
    {
     "data": {
      "text/plain": [
       "<AxesSubplot:ylabel='Frequency'>"
      ]
     },
     "execution_count": 53,
     "metadata": {},
     "output_type": "execute_result"
    },
    {
     "data": {
      "image/png": "[encoded data removed]",
      "text/plain": [
       "<Figure size 432x288 with 1 Axes>"
      ]
     },
     "metadata": {
      "needs_background": "light"
     },
     "output_type": "display_data"
    }
   ],
   "source": [
    "display_hist_ratio(\"2112\", 9, 30, week_days, bins=15)"
   ]
  },
  {
   "cell_type": "code",
   "execution_count": 54,
   "id": "088e0e58-b89a-4019-97b6-b401a6819362",
   "metadata": {},
   "outputs": [
    {
     "data": {
      "text/plain": [
       "<AxesSubplot:ylabel='Frequency'>"
      ]
     },
     "execution_count": 54,
     "metadata": {},
     "output_type": "execute_result"
    },
    {
     "data": {
      "image/png": "[encoded data removed]",
      "text/plain": [
       "<Figure size 432x288 with 1 Axes>"
      ]
     },
     "metadata": {
      "needs_background": "light"
     },
     "output_type": "display_data"
    }
   ],
   "source": [
    "display_hist_ratio(\"2009\", 9, 30, week_days, bins=15)"
   ]
  },
  {
   "cell_type": "code",
   "execution_count": 55,
   "id": "a10d6a5b-744f-4f26-a6f8-386a0dd78e5d",
   "metadata": {},
   "outputs": [
    {
     "data": {
      "text/plain": [
       "<AxesSubplot:ylabel='Frequency'>"
      ]
     },
     "execution_count": 55,
     "metadata": {},
     "output_type": "execute_result"
    },
    {
     "data": {
      "image/png": "[encoded data removed]",
      "text/plain": [
       "<Figure size 432x288 with 1 Axes>"
      ]
     },
     "metadata": {
      "needs_background": "light"
     },
     "output_type": "display_data"
    }
   ],
   "source": [
    "display_hist_ratio(\"2008\", 9, 30, week_days, bins=15)"
   ]
  },
  {
   "cell_type": "code",
   "execution_count": 56,
   "id": "cbbc6865-be7b-4fd2-b3b3-86ca9e298e70",
   "metadata": {},
   "outputs": [
    {
     "data": {
      "text/plain": [
       "<AxesSubplot:ylabel='Frequency'>"
      ]
     },
     "execution_count": 56,
     "metadata": {},
     "output_type": "execute_result"
    },
    {
     "data": {
      "image/png": "[encoded data removed]",
      "text/plain": [
       "<Figure size 432x288 with 1 Axes>"
      ]
     },
     "metadata": {
      "needs_background": "light"
     },
     "output_type": "display_data"
    }
   ],
   "source": [
    "display_hist_ratio(\"2112\", 9, 40, week_days, bins=15)"
   ]
  },
  {
   "cell_type": "code",
   "execution_count": 57,
   "id": "f4871806-6c34-4517-b468-d9a2d177f226",
   "metadata": {},
   "outputs": [
    {
     "data": {
      "text/plain": [
       "<AxesSubplot:ylabel='Frequency'>"
      ]
     },
     "execution_count": 57,
     "metadata": {},
     "output_type": "execute_result"
    },
    {
     "data": {
      "image/png": "[encoded data removed]",
      "text/plain": [
       "<Figure size 432x288 with 1 Axes>"
      ]
     },
     "metadata": {
      "needs_background": "light"
     },
     "output_type": "display_data"
    }
   ],
   "source": [
    "display_hist_ratio(\"2009\", 9, 40, week_days, bins=15)"
   ]
  },
  {
   "cell_type": "code",
   "execution_count": 58,
   "id": "08205256-3c9f-4279-ae0a-c45ac87d5736",
   "metadata": {},
   "outputs": [
    {
     "data": {
      "text/plain": [
       "<AxesSubplot:ylabel='Frequency'>"
      ]
     },
     "execution_count": 58,
     "metadata": {},
     "output_type": "execute_result"
    },
    {
     "data": {
      "image/png": "[encoded data removed]",
      "text/plain": [
       "<Figure size 432x288 with 1 Axes>"
      ]
     },
     "metadata": {
      "needs_background": "light"
     },
     "output_type": "display_data"
    }
   ],
   "source": [
    "display_hist_ratio(\"2008\", 9, 40, week_days, bins=15)"
   ]
  },
  {
   "cell_type": "code",
   "execution_count": 59,
   "id": "4b701ef3-84e5-4201-9931-c11fe1c42d2d",
   "metadata": {},
   "outputs": [
    {
     "data": {
      "text/plain": [
       "<AxesSubplot:ylabel='Frequency'>"
      ]
     },
     "execution_count": 59,
     "metadata": {},
     "output_type": "execute_result"
    },
    {
     "data": {
      "image/png": "[encoded data removed]",
      "text/plain": [
       "<Figure size 432x288 with 1 Axes>"
      ]
     },
     "metadata": {
      "needs_background": "light"
     },
     "output_type": "display_data"
    }
   ],
   "source": [
    "display_hist_ratio(\"2009\", 3, 30, week_days, bins=15)"
   ]
  },
  {
   "cell_type": "code",
   "execution_count": 60,
   "id": "fcb8c9bb-1187-4a6a-b074-e4354e887fd5",
   "metadata": {},
   "outputs": [
    {
     "data": {
      "text/plain": [
       "<AxesSubplot:ylabel='Frequency'>"
      ]
     },
     "execution_count": 60,
     "metadata": {},
     "output_type": "execute_result"
    },
    {
     "data": {
      "image/png": "[encoded data removed]",
      "text/plain": [
       "<Figure size 432x288 with 1 Axes>"
      ]
     },
     "metadata": {
      "needs_background": "light"
     },
     "output_type": "display_data"
    }
   ],
   "source": [
    "display_hist_ratio(\"2112\", 3, 30, week_days, bins=15)"
   ]
  },
  {
   "cell_type": "markdown",
   "id": "10d5c3d5-e332-4eec-8c35-46e64d488060",
   "metadata": {},
   "source": [
    "# About possible features and models\n",
    "\n",
    "## Basic idea\n",
    "\n",
    "Possible variables:\n",
    "* week_days VS week_ends\n",
    "* vacation (yes/no)\n",
    "* nbr of bikes available in the different stations close to our starting point\n",
    "\n",
    "NB: this last condition is only for convenience.\n",
    "\n",
    "Additional variables would be:\n",
    "* weather condition (including temperature and rain (yes/no))\n",
    "\n",
    "And then, remains the question of what kind of model we should use... \n",
    "\n",
    "Which variable should we predict?\n",
    "* As a first step we should predict what is going to happen at 9:30.\n",
    "\n",
    "## More ideas\n",
    "\n",
    "Include more data, through a suitable \"grouping\" of collected data. One idea would be to have a typology of stations and model our stations of interest accordingly."
   ]
  },
  {
   "cell_type": "code",
   "execution_count": null,
   "id": "9fc7cc85-89bd-4901-a642-bf4af047fe85",
   "metadata": {},
   "outputs": [],
   "source": []
  },
  {
   "cell_type": "markdown",
   "id": "72cfbab2-4ad5-4173-af62-068c9a50e37a",
   "metadata": {},
   "source": [
    "# Preparation of dataset"
   ]
  },
  {
   "cell_type": "code",
   "execution_count": 61,
   "id": "b9c2891f-9cc6-47d9-9de3-9cc21fd51901",
   "metadata": {},
   "outputs": [],
   "source": [
    "aux[\"month\"] = aux.index.month"
   ]
  },
  {
   "cell_type": "code",
   "execution_count": 62,
   "id": "4ec9eb14-ab92-4ffc-8dfd-bd92d433dfb9",
   "metadata": {},
   "outputs": [],
   "source": [
    "aux[\"day\"] = aux.index.day"
   ]
  },
  {
   "cell_type": "markdown",
   "id": "481a3bcd-8e03-4412-a266-d761d30606b4",
   "metadata": {},
   "source": [
    "Extract data from 09:00"
   ]
  },
  {
   "cell_type": "code",
   "execution_count": 63,
   "id": "3b846cf5-5e5e-44e0-979d-6ffa1e19bf95",
   "metadata": {},
   "outputs": [
    {
     "data": {
      "text/html": [
       "<div>\n",
       "<style scoped>\n",
       "    .dataframe tbody tr th:only-of-type {\n",
       "        vertical-align: middle;\n",
       "    }\n",
       "\n",
       "    .dataframe tbody tr th {\n",
       "        vertical-align: top;\n",
       "    }\n",
       "\n",
       "    .dataframe thead th {\n",
       "        text-align: right;\n",
       "    }\n",
       "</style>\n",
       "<table border=\"1\" class=\"dataframe\">\n",
       "  <thead>\n",
       "    <tr style=\"text-align: right;\">\n",
       "      <th></th>\n",
       "      <th>stationCode</th>\n",
       "      <th>available_mechanical</th>\n",
       "      <th>available_electrical</th>\n",
       "      <th>capacity</th>\n",
       "      <th>free_docks</th>\n",
       "      <th>free_docks_ratio</th>\n",
       "      <th>local_hour</th>\n",
       "      <th>local_minute</th>\n",
       "      <th>week_day</th>\n",
       "      <th>month</th>\n",
       "      <th>day</th>\n",
       "    </tr>\n",
       "    <tr>\n",
       "      <th>file_time</th>\n",
       "      <th></th>\n",
       "      <th></th>\n",
       "      <th></th>\n",
       "      <th></th>\n",
       "      <th></th>\n",
       "      <th></th>\n",
       "      <th></th>\n",
       "      <th></th>\n",
       "      <th></th>\n",
       "      <th></th>\n",
       "      <th></th>\n",
       "    </tr>\n",
       "  </thead>\n",
       "  <tbody>\n",
       "    <tr>\n",
       "      <th>2022-05-20 00:00:08+02:00</th>\n",
       "      <td>2112</td>\n",
       "      <td>0.0</td>\n",
       "      <td>1.0</td>\n",
       "      <td>17</td>\n",
       "      <td>16.0</td>\n",
       "      <td>0.941176</td>\n",
       "      <td>0</td>\n",
       "      <td>0</td>\n",
       "      <td>4</td>\n",
       "      <td>5</td>\n",
       "      <td>20</td>\n",
       "    </tr>\n",
       "    <tr>\n",
       "      <th>2022-05-20 00:10:08+02:00</th>\n",
       "      <td>2112</td>\n",
       "      <td>0.0</td>\n",
       "      <td>0.0</td>\n",
       "      <td>17</td>\n",
       "      <td>17.0</td>\n",
       "      <td>1.000000</td>\n",
       "      <td>0</td>\n",
       "      <td>10</td>\n",
       "      <td>4</td>\n",
       "      <td>5</td>\n",
       "      <td>20</td>\n",
       "    </tr>\n",
       "    <tr>\n",
       "      <th>2022-05-20 00:20:07+02:00</th>\n",
       "      <td>2112</td>\n",
       "      <td>0.0</td>\n",
       "      <td>0.0</td>\n",
       "      <td>17</td>\n",
       "      <td>17.0</td>\n",
       "      <td>1.000000</td>\n",
       "      <td>0</td>\n",
       "      <td>20</td>\n",
       "      <td>4</td>\n",
       "      <td>5</td>\n",
       "      <td>20</td>\n",
       "    </tr>\n",
       "    <tr>\n",
       "      <th>2022-05-20 00:30:07+02:00</th>\n",
       "      <td>2112</td>\n",
       "      <td>0.0</td>\n",
       "      <td>0.0</td>\n",
       "      <td>17</td>\n",
       "      <td>17.0</td>\n",
       "      <td>1.000000</td>\n",
       "      <td>0</td>\n",
       "      <td>30</td>\n",
       "      <td>4</td>\n",
       "      <td>5</td>\n",
       "      <td>20</td>\n",
       "    </tr>\n",
       "    <tr>\n",
       "      <th>2022-05-20 00:40:07+02:00</th>\n",
       "      <td>2112</td>\n",
       "      <td>0.0</td>\n",
       "      <td>0.0</td>\n",
       "      <td>17</td>\n",
       "      <td>17.0</td>\n",
       "      <td>1.000000</td>\n",
       "      <td>0</td>\n",
       "      <td>40</td>\n",
       "      <td>4</td>\n",
       "      <td>5</td>\n",
       "      <td>20</td>\n",
       "    </tr>\n",
       "    <tr>\n",
       "      <th>...</th>\n",
       "      <td>...</td>\n",
       "      <td>...</td>\n",
       "      <td>...</td>\n",
       "      <td>...</td>\n",
       "      <td>...</td>\n",
       "      <td>...</td>\n",
       "      <td>...</td>\n",
       "      <td>...</td>\n",
       "      <td>...</td>\n",
       "      <td>...</td>\n",
       "      <td>...</td>\n",
       "    </tr>\n",
       "    <tr>\n",
       "      <th>2022-12-18 23:10:08+01:00</th>\n",
       "      <td>2111</td>\n",
       "      <td>8.0</td>\n",
       "      <td>1.0</td>\n",
       "      <td>30</td>\n",
       "      <td>21.0</td>\n",
       "      <td>0.700000</td>\n",
       "      <td>23</td>\n",
       "      <td>10</td>\n",
       "      <td>6</td>\n",
       "      <td>12</td>\n",
       "      <td>18</td>\n",
       "    </tr>\n",
       "    <tr>\n",
       "      <th>2022-12-18 23:20:08+01:00</th>\n",
       "      <td>2111</td>\n",
       "      <td>8.0</td>\n",
       "      <td>1.0</td>\n",
       "      <td>30</td>\n",
       "      <td>21.0</td>\n",
       "      <td>0.700000</td>\n",
       "      <td>23</td>\n",
       "      <td>20</td>\n",
       "      <td>6</td>\n",
       "      <td>12</td>\n",
       "      <td>18</td>\n",
       "    </tr>\n",
       "    <tr>\n",
       "      <th>2022-12-18 23:30:08+01:00</th>\n",
       "      <td>2111</td>\n",
       "      <td>8.0</td>\n",
       "      <td>1.0</td>\n",
       "      <td>30</td>\n",
       "      <td>21.0</td>\n",
       "      <td>0.700000</td>\n",
       "      <td>23</td>\n",
       "      <td>30</td>\n",
       "      <td>6</td>\n",
       "      <td>12</td>\n",
       "      <td>18</td>\n",
       "    </tr>\n",
       "    <tr>\n",
       "      <th>2022-12-18 23:40:08+01:00</th>\n",
       "      <td>2111</td>\n",
       "      <td>8.0</td>\n",
       "      <td>1.0</td>\n",
       "      <td>30</td>\n",
       "      <td>21.0</td>\n",
       "      <td>0.700000</td>\n",
       "      <td>23</td>\n",
       "      <td>40</td>\n",
       "      <td>6</td>\n",
       "      <td>12</td>\n",
       "      <td>18</td>\n",
       "    </tr>\n",
       "    <tr>\n",
       "      <th>2022-12-18 23:50:08+01:00</th>\n",
       "      <td>2111</td>\n",
       "      <td>8.0</td>\n",
       "      <td>1.0</td>\n",
       "      <td>30</td>\n",
       "      <td>21.0</td>\n",
       "      <td>0.700000</td>\n",
       "      <td>23</td>\n",
       "      <td>50</td>\n",
       "      <td>6</td>\n",
       "      <td>12</td>\n",
       "      <td>18</td>\n",
       "    </tr>\n",
       "  </tbody>\n",
       "</table>\n",
       "<p>246222 rows × 11 columns</p>\n",
       "</div>"
      ],
      "text/plain": [
       "                          stationCode  available_mechanical  \\\n",
       "file_time                                                     \n",
       "2022-05-20 00:00:08+02:00        2112                   0.0   \n",
       "2022-05-20 00:10:08+02:00        2112                   0.0   \n",
       "2022-05-20 00:20:07+02:00        2112                   0.0   \n",
       "2022-05-20 00:30:07+02:00        2112                   0.0   \n",
       "2022-05-20 00:40:07+02:00        2112                   0.0   \n",
       "...                               ...                   ...   \n",
       "2022-12-18 23:10:08+01:00        2111                   8.0   \n",
       "2022-12-18 23:20:08+01:00        2111                   8.0   \n",
       "2022-12-18 23:30:08+01:00        2111                   8.0   \n",
       "2022-12-18 23:40:08+01:00        2111                   8.0   \n",
       "2022-12-18 23:50:08+01:00        2111                   8.0   \n",
       "\n",
       "                           available_electrical  capacity  free_docks  \\\n",
       "file_time                                                               \n",
       "2022-05-20 00:00:08+02:00                   1.0        17        16.0   \n",
       "2022-05-20 00:10:08+02:00                   0.0        17        17.0   \n",
       "2022-05-20 00:20:07+02:00                   0.0        17        17.0   \n",
       "2022-05-20 00:30:07+02:00                   0.0        17        17.0   \n",
       "2022-05-20 00:40:07+02:00                   0.0        17        17.0   \n",
       "...                                         ...       ...         ...   \n",
       "2022-12-18 23:10:08+01:00                   1.0        30        21.0   \n",
       "2022-12-18 23:20:08+01:00                   1.0        30        21.0   \n",
       "2022-12-18 23:30:08+01:00                   1.0        30        21.0   \n",
       "2022-12-18 23:40:08+01:00                   1.0        30        21.0   \n",
       "2022-12-18 23:50:08+01:00                   1.0        30        21.0   \n",
       "\n",
       "                           free_docks_ratio  local_hour  local_minute  \\\n",
       "file_time                                                               \n",
       "2022-05-20 00:00:08+02:00          0.941176           0             0   \n",
       "2022-05-20 00:10:08+02:00          1.000000           0            10   \n",
       "2022-05-20 00:20:07+02:00          1.000000           0            20   \n",
       "2022-05-20 00:30:07+02:00          1.000000           0            30   \n",
       "2022-05-20 00:40:07+02:00          1.000000           0            40   \n",
       "...                                     ...         ...           ...   \n",
       "2022-12-18 23:10:08+01:00          0.700000          23            10   \n",
       "2022-12-18 23:20:08+01:00          0.700000          23            20   \n",
       "2022-12-18 23:30:08+01:00          0.700000          23            30   \n",
       "2022-12-18 23:40:08+01:00          0.700000          23            40   \n",
       "2022-12-18 23:50:08+01:00          0.700000          23            50   \n",
       "\n",
       "                           week_day  month  day  \n",
       "file_time                                        \n",
       "2022-05-20 00:00:08+02:00         4      5   20  \n",
       "2022-05-20 00:10:08+02:00         4      5   20  \n",
       "2022-05-20 00:20:07+02:00         4      5   20  \n",
       "2022-05-20 00:30:07+02:00         4      5   20  \n",
       "2022-05-20 00:40:07+02:00         4      5   20  \n",
       "...                             ...    ...  ...  \n",
       "2022-12-18 23:10:08+01:00         6     12   18  \n",
       "2022-12-18 23:20:08+01:00         6     12   18  \n",
       "2022-12-18 23:30:08+01:00         6     12   18  \n",
       "2022-12-18 23:40:08+01:00         6     12   18  \n",
       "2022-12-18 23:50:08+01:00         6     12   18  \n",
       "\n",
       "[246222 rows x 11 columns]"
      ]
     },
     "execution_count": 63,
     "metadata": {},
     "output_type": "execute_result"
    }
   ],
   "source": [
    "aux"
   ]
  },
  {
   "cell_type": "code",
   "execution_count": 64,
   "id": "46399534-fb8f-4b56-84a4-d3ae23c37689",
   "metadata": {},
   "outputs": [],
   "source": [
    "def get_free_docks_ratios(local_hour, local_minute):\n",
    "    \"\"\" Create a table with one column per station and one row per date \"\"\"\n",
    "    mask = (aux[\"local_hour\"]==local_hour) & (aux[\"local_minute\"]==local_minute)\n",
    "    reduced_df = aux[mask].reset_index()[[\"stationCode\", \"free_docks_ratio\", \"month\", \"day\"]]\n",
    "    \n",
    "    evol_data = reduced_df.pivot(index=[\"month\", \"day\"], columns=[\"stationCode\"])\n",
    "    return evol_data"
   ]
  },
  {
   "cell_type": "code",
   "execution_count": 65,
   "id": "f806f991-2e60-4edd-9886-6ce4ba3fbae0",
   "metadata": {},
   "outputs": [
    {
     "data": {
      "text/html": [
       "<div>\n",
       "<style scoped>\n",
       "    .dataframe tbody tr th:only-of-type {\n",
       "        vertical-align: middle;\n",
       "    }\n",
       "\n",
       "    .dataframe tbody tr th {\n",
       "        vertical-align: top;\n",
       "    }\n",
       "\n",
       "    .dataframe thead tr th {\n",
       "        text-align: left;\n",
       "    }\n",
       "\n",
       "    .dataframe thead tr:last-of-type th {\n",
       "        text-align: right;\n",
       "    }\n",
       "</style>\n",
       "<table border=\"1\" class=\"dataframe\">\n",
       "  <thead>\n",
       "    <tr>\n",
       "      <th></th>\n",
       "      <th></th>\n",
       "      <th colspan=\"9\" halign=\"left\">free_docks_ratio</th>\n",
       "    </tr>\n",
       "    <tr>\n",
       "      <th></th>\n",
       "      <th>stationCode</th>\n",
       "      <th>2006</th>\n",
       "      <th>2008</th>\n",
       "      <th>2009</th>\n",
       "      <th>2111</th>\n",
       "      <th>2112</th>\n",
       "      <th>21205</th>\n",
       "      <th>21209</th>\n",
       "      <th>21212</th>\n",
       "      <th>21215</th>\n",
       "    </tr>\n",
       "    <tr>\n",
       "      <th>month</th>\n",
       "      <th>day</th>\n",
       "      <th></th>\n",
       "      <th></th>\n",
       "      <th></th>\n",
       "      <th></th>\n",
       "      <th></th>\n",
       "      <th></th>\n",
       "      <th></th>\n",
       "      <th></th>\n",
       "      <th></th>\n",
       "    </tr>\n",
       "  </thead>\n",
       "  <tbody>\n",
       "    <tr>\n",
       "      <th rowspan=\"5\" valign=\"top\">5</th>\n",
       "      <th>20</th>\n",
       "      <td>0.958333</td>\n",
       "      <td>0.642857</td>\n",
       "      <td>0.758621</td>\n",
       "      <td>0.733333</td>\n",
       "      <td>0.941176</td>\n",
       "      <td>0.653846</td>\n",
       "      <td>0.366667</td>\n",
       "      <td>0.818182</td>\n",
       "      <td>0.545455</td>\n",
       "    </tr>\n",
       "    <tr>\n",
       "      <th>21</th>\n",
       "      <td>0.833333</td>\n",
       "      <td>0.964286</td>\n",
       "      <td>0.913793</td>\n",
       "      <td>0.866667</td>\n",
       "      <td>0.882353</td>\n",
       "      <td>0.730769</td>\n",
       "      <td>0.200000</td>\n",
       "      <td>0.863636</td>\n",
       "      <td>0.484848</td>\n",
       "    </tr>\n",
       "    <tr>\n",
       "      <th>22</th>\n",
       "      <td>0.791667</td>\n",
       "      <td>0.928571</td>\n",
       "      <td>0.931034</td>\n",
       "      <td>0.600000</td>\n",
       "      <td>1.000000</td>\n",
       "      <td>0.653846</td>\n",
       "      <td>0.400000</td>\n",
       "      <td>0.863636</td>\n",
       "      <td>0.333333</td>\n",
       "    </tr>\n",
       "    <tr>\n",
       "      <th>23</th>\n",
       "      <td>0.583333</td>\n",
       "      <td>0.785714</td>\n",
       "      <td>0.344828</td>\n",
       "      <td>0.766667</td>\n",
       "      <td>0.588235</td>\n",
       "      <td>0.846154</td>\n",
       "      <td>0.633333</td>\n",
       "      <td>0.545455</td>\n",
       "      <td>0.575758</td>\n",
       "    </tr>\n",
       "    <tr>\n",
       "      <th>24</th>\n",
       "      <td>0.583333</td>\n",
       "      <td>0.464286</td>\n",
       "      <td>0.534483</td>\n",
       "      <td>0.833333</td>\n",
       "      <td>0.647059</td>\n",
       "      <td>0.961538</td>\n",
       "      <td>0.900000</td>\n",
       "      <td>0.500000</td>\n",
       "      <td>0.848485</td>\n",
       "    </tr>\n",
       "    <tr>\n",
       "      <th>...</th>\n",
       "      <th>...</th>\n",
       "      <td>...</td>\n",
       "      <td>...</td>\n",
       "      <td>...</td>\n",
       "      <td>...</td>\n",
       "      <td>...</td>\n",
       "      <td>...</td>\n",
       "      <td>...</td>\n",
       "      <td>...</td>\n",
       "      <td>...</td>\n",
       "    </tr>\n",
       "    <tr>\n",
       "      <th rowspan=\"5\" valign=\"top\">12</th>\n",
       "      <th>14</th>\n",
       "      <td>0.666667</td>\n",
       "      <td>0.678571</td>\n",
       "      <td>0.551724</td>\n",
       "      <td>0.600000</td>\n",
       "      <td>0.823529</td>\n",
       "      <td>0.846154</td>\n",
       "      <td>0.900000</td>\n",
       "      <td>1.000000</td>\n",
       "      <td>0.848485</td>\n",
       "    </tr>\n",
       "    <tr>\n",
       "      <th>15</th>\n",
       "      <td>0.750000</td>\n",
       "      <td>0.678571</td>\n",
       "      <td>0.741379</td>\n",
       "      <td>0.833333</td>\n",
       "      <td>0.823529</td>\n",
       "      <td>0.846154</td>\n",
       "      <td>0.733333</td>\n",
       "      <td>0.818182</td>\n",
       "      <td>0.636364</td>\n",
       "    </tr>\n",
       "    <tr>\n",
       "      <th>16</th>\n",
       "      <td>0.583333</td>\n",
       "      <td>0.964286</td>\n",
       "      <td>0.913793</td>\n",
       "      <td>0.866667</td>\n",
       "      <td>0.941176</td>\n",
       "      <td>0.846154</td>\n",
       "      <td>0.700000</td>\n",
       "      <td>0.772727</td>\n",
       "      <td>0.878788</td>\n",
       "    </tr>\n",
       "    <tr>\n",
       "      <th>17</th>\n",
       "      <td>0.791667</td>\n",
       "      <td>0.892857</td>\n",
       "      <td>0.948276</td>\n",
       "      <td>0.900000</td>\n",
       "      <td>0.941176</td>\n",
       "      <td>0.692308</td>\n",
       "      <td>0.633333</td>\n",
       "      <td>0.590909</td>\n",
       "      <td>0.666667</td>\n",
       "    </tr>\n",
       "    <tr>\n",
       "      <th>18</th>\n",
       "      <td>0.791667</td>\n",
       "      <td>0.785714</td>\n",
       "      <td>0.913793</td>\n",
       "      <td>0.733333</td>\n",
       "      <td>1.000000</td>\n",
       "      <td>0.884615</td>\n",
       "      <td>0.600000</td>\n",
       "      <td>0.818182</td>\n",
       "      <td>0.939394</td>\n",
       "    </tr>\n",
       "  </tbody>\n",
       "</table>\n",
       "<p>191 rows × 9 columns</p>\n",
       "</div>"
      ],
      "text/plain": [
       "            free_docks_ratio                                          \\\n",
       "stationCode             2006      2008      2009      2111      2112   \n",
       "month day                                                              \n",
       "5     20            0.958333  0.642857  0.758621  0.733333  0.941176   \n",
       "      21            0.833333  0.964286  0.913793  0.866667  0.882353   \n",
       "      22            0.791667  0.928571  0.931034  0.600000  1.000000   \n",
       "      23            0.583333  0.785714  0.344828  0.766667  0.588235   \n",
       "      24            0.583333  0.464286  0.534483  0.833333  0.647059   \n",
       "...                      ...       ...       ...       ...       ...   \n",
       "12    14            0.666667  0.678571  0.551724  0.600000  0.823529   \n",
       "      15            0.750000  0.678571  0.741379  0.833333  0.823529   \n",
       "      16            0.583333  0.964286  0.913793  0.866667  0.941176   \n",
       "      17            0.791667  0.892857  0.948276  0.900000  0.941176   \n",
       "      18            0.791667  0.785714  0.913793  0.733333  1.000000   \n",
       "\n",
       "                                                     \n",
       "stationCode     21205     21209     21212     21215  \n",
       "month day                                            \n",
       "5     20     0.653846  0.366667  0.818182  0.545455  \n",
       "      21     0.730769  0.200000  0.863636  0.484848  \n",
       "      22     0.653846  0.400000  0.863636  0.333333  \n",
       "      23     0.846154  0.633333  0.545455  0.575758  \n",
       "      24     0.961538  0.900000  0.500000  0.848485  \n",
       "...               ...       ...       ...       ...  \n",
       "12    14     0.846154  0.900000  1.000000  0.848485  \n",
       "      15     0.846154  0.733333  0.818182  0.636364  \n",
       "      16     0.846154  0.700000  0.772727  0.878788  \n",
       "      17     0.692308  0.633333  0.590909  0.666667  \n",
       "      18     0.884615  0.600000  0.818182  0.939394  \n",
       "\n",
       "[191 rows x 9 columns]"
      ]
     },
     "execution_count": 65,
     "metadata": {},
     "output_type": "execute_result"
    }
   ],
   "source": [
    "start_time_data = get_free_docks_ratios(9, 0)\n",
    "start_time_data"
   ]
  },
  {
   "cell_type": "code",
   "execution_count": 66,
   "id": "7a467c1a-1ff6-4075-a888-a9c6b1b96261",
   "metadata": {},
   "outputs": [
    {
     "data": {
      "text/html": [
       "<div>\n",
       "<style scoped>\n",
       "    .dataframe tbody tr th:only-of-type {\n",
       "        vertical-align: middle;\n",
       "    }\n",
       "\n",
       "    .dataframe tbody tr th {\n",
       "        vertical-align: top;\n",
       "    }\n",
       "\n",
       "    .dataframe thead tr th {\n",
       "        text-align: left;\n",
       "    }\n",
       "\n",
       "    .dataframe thead tr:last-of-type th {\n",
       "        text-align: right;\n",
       "    }\n",
       "</style>\n",
       "<table border=\"1\" class=\"dataframe\">\n",
       "  <thead>\n",
       "    <tr>\n",
       "      <th></th>\n",
       "      <th></th>\n",
       "      <th colspan=\"9\" halign=\"left\">free_docks_ratio</th>\n",
       "    </tr>\n",
       "    <tr>\n",
       "      <th></th>\n",
       "      <th>stationCode</th>\n",
       "      <th>2006</th>\n",
       "      <th>2008</th>\n",
       "      <th>2009</th>\n",
       "      <th>2111</th>\n",
       "      <th>2112</th>\n",
       "      <th>21205</th>\n",
       "      <th>21209</th>\n",
       "      <th>21212</th>\n",
       "      <th>21215</th>\n",
       "    </tr>\n",
       "    <tr>\n",
       "      <th>month</th>\n",
       "      <th>day</th>\n",
       "      <th></th>\n",
       "      <th></th>\n",
       "      <th></th>\n",
       "      <th></th>\n",
       "      <th></th>\n",
       "      <th></th>\n",
       "      <th></th>\n",
       "      <th></th>\n",
       "      <th></th>\n",
       "    </tr>\n",
       "  </thead>\n",
       "  <tbody>\n",
       "    <tr>\n",
       "      <th rowspan=\"5\" valign=\"top\">5</th>\n",
       "      <th>20</th>\n",
       "      <td>0.750000</td>\n",
       "      <td>0.571429</td>\n",
       "      <td>0.586207</td>\n",
       "      <td>0.700000</td>\n",
       "      <td>0.823529</td>\n",
       "      <td>0.500000</td>\n",
       "      <td>0.600000</td>\n",
       "      <td>0.954545</td>\n",
       "      <td>0.545455</td>\n",
       "    </tr>\n",
       "    <tr>\n",
       "      <th>21</th>\n",
       "      <td>0.875000</td>\n",
       "      <td>0.964286</td>\n",
       "      <td>0.913793</td>\n",
       "      <td>0.866667</td>\n",
       "      <td>0.764706</td>\n",
       "      <td>0.769231</td>\n",
       "      <td>0.300000</td>\n",
       "      <td>0.909091</td>\n",
       "      <td>0.484848</td>\n",
       "    </tr>\n",
       "    <tr>\n",
       "      <th>22</th>\n",
       "      <td>0.791667</td>\n",
       "      <td>0.928571</td>\n",
       "      <td>0.913793</td>\n",
       "      <td>0.600000</td>\n",
       "      <td>1.000000</td>\n",
       "      <td>0.615385</td>\n",
       "      <td>0.500000</td>\n",
       "      <td>0.954545</td>\n",
       "      <td>0.363636</td>\n",
       "    </tr>\n",
       "    <tr>\n",
       "      <th>23</th>\n",
       "      <td>0.333333</td>\n",
       "      <td>0.500000</td>\n",
       "      <td>0.086207</td>\n",
       "      <td>0.533333</td>\n",
       "      <td>0.294118</td>\n",
       "      <td>0.692308</td>\n",
       "      <td>0.766667</td>\n",
       "      <td>0.318182</td>\n",
       "      <td>0.303030</td>\n",
       "    </tr>\n",
       "    <tr>\n",
       "      <th>24</th>\n",
       "      <td>0.166667</td>\n",
       "      <td>0.250000</td>\n",
       "      <td>0.224138</td>\n",
       "      <td>0.566667</td>\n",
       "      <td>0.411765</td>\n",
       "      <td>0.884615</td>\n",
       "      <td>0.933333</td>\n",
       "      <td>0.227273</td>\n",
       "      <td>0.696970</td>\n",
       "    </tr>\n",
       "    <tr>\n",
       "      <th>...</th>\n",
       "      <th>...</th>\n",
       "      <td>...</td>\n",
       "      <td>...</td>\n",
       "      <td>...</td>\n",
       "      <td>...</td>\n",
       "      <td>...</td>\n",
       "      <td>...</td>\n",
       "      <td>...</td>\n",
       "      <td>...</td>\n",
       "      <td>...</td>\n",
       "    </tr>\n",
       "    <tr>\n",
       "      <th rowspan=\"5\" valign=\"top\">12</th>\n",
       "      <th>14</th>\n",
       "      <td>0.458333</td>\n",
       "      <td>0.535714</td>\n",
       "      <td>0.362069</td>\n",
       "      <td>0.500000</td>\n",
       "      <td>0.470588</td>\n",
       "      <td>0.692308</td>\n",
       "      <td>0.900000</td>\n",
       "      <td>0.954545</td>\n",
       "      <td>0.909091</td>\n",
       "    </tr>\n",
       "    <tr>\n",
       "      <th>15</th>\n",
       "      <td>0.458333</td>\n",
       "      <td>0.500000</td>\n",
       "      <td>0.465517</td>\n",
       "      <td>0.566667</td>\n",
       "      <td>0.470588</td>\n",
       "      <td>0.730769</td>\n",
       "      <td>0.866667</td>\n",
       "      <td>0.863636</td>\n",
       "      <td>0.454545</td>\n",
       "    </tr>\n",
       "    <tr>\n",
       "      <th>16</th>\n",
       "      <td>0.375000</td>\n",
       "      <td>0.928571</td>\n",
       "      <td>0.724138</td>\n",
       "      <td>0.800000</td>\n",
       "      <td>0.823529</td>\n",
       "      <td>0.846154</td>\n",
       "      <td>0.800000</td>\n",
       "      <td>0.863636</td>\n",
       "      <td>0.878788</td>\n",
       "    </tr>\n",
       "    <tr>\n",
       "      <th>17</th>\n",
       "      <td>0.750000</td>\n",
       "      <td>0.892857</td>\n",
       "      <td>0.931034</td>\n",
       "      <td>0.900000</td>\n",
       "      <td>0.941176</td>\n",
       "      <td>0.692308</td>\n",
       "      <td>0.666667</td>\n",
       "      <td>0.590909</td>\n",
       "      <td>0.727273</td>\n",
       "    </tr>\n",
       "    <tr>\n",
       "      <th>18</th>\n",
       "      <td>0.750000</td>\n",
       "      <td>0.785714</td>\n",
       "      <td>0.896552</td>\n",
       "      <td>0.666667</td>\n",
       "      <td>1.000000</td>\n",
       "      <td>0.884615</td>\n",
       "      <td>0.633333</td>\n",
       "      <td>0.818182</td>\n",
       "      <td>0.939394</td>\n",
       "    </tr>\n",
       "  </tbody>\n",
       "</table>\n",
       "<p>191 rows × 9 columns</p>\n",
       "</div>"
      ],
      "text/plain": [
       "            free_docks_ratio                                          \\\n",
       "stationCode             2006      2008      2009      2111      2112   \n",
       "month day                                                              \n",
       "5     20            0.750000  0.571429  0.586207  0.700000  0.823529   \n",
       "      21            0.875000  0.964286  0.913793  0.866667  0.764706   \n",
       "      22            0.791667  0.928571  0.913793  0.600000  1.000000   \n",
       "      23            0.333333  0.500000  0.086207  0.533333  0.294118   \n",
       "      24            0.166667  0.250000  0.224138  0.566667  0.411765   \n",
       "...                      ...       ...       ...       ...       ...   \n",
       "12    14            0.458333  0.535714  0.362069  0.500000  0.470588   \n",
       "      15            0.458333  0.500000  0.465517  0.566667  0.470588   \n",
       "      16            0.375000  0.928571  0.724138  0.800000  0.823529   \n",
       "      17            0.750000  0.892857  0.931034  0.900000  0.941176   \n",
       "      18            0.750000  0.785714  0.896552  0.666667  1.000000   \n",
       "\n",
       "                                                     \n",
       "stationCode     21205     21209     21212     21215  \n",
       "month day                                            \n",
       "5     20     0.500000  0.600000  0.954545  0.545455  \n",
       "      21     0.769231  0.300000  0.909091  0.484848  \n",
       "      22     0.615385  0.500000  0.954545  0.363636  \n",
       "      23     0.692308  0.766667  0.318182  0.303030  \n",
       "      24     0.884615  0.933333  0.227273  0.696970  \n",
       "...               ...       ...       ...       ...  \n",
       "12    14     0.692308  0.900000  0.954545  0.909091  \n",
       "      15     0.730769  0.866667  0.863636  0.454545  \n",
       "      16     0.846154  0.800000  0.863636  0.878788  \n",
       "      17     0.692308  0.666667  0.590909  0.727273  \n",
       "      18     0.884615  0.633333  0.818182  0.939394  \n",
       "\n",
       "[191 rows x 9 columns]"
      ]
     },
     "execution_count": 66,
     "metadata": {},
     "output_type": "execute_result"
    }
   ],
   "source": [
    "target_time_data = get_free_docks_ratios(9, 30)\n",
    "target_time_data"
   ]
  },
  {
   "cell_type": "code",
   "execution_count": 67,
   "id": "ada9a96d-c807-40a6-a0ab-52a195f03283",
   "metadata": {},
   "outputs": [
    {
     "data": {
      "text/html": [
       "<div>\n",
       "<style scoped>\n",
       "    .dataframe tbody tr th:only-of-type {\n",
       "        vertical-align: middle;\n",
       "    }\n",
       "\n",
       "    .dataframe tbody tr th {\n",
       "        vertical-align: top;\n",
       "    }\n",
       "\n",
       "    .dataframe thead tr th {\n",
       "        text-align: left;\n",
       "    }\n",
       "\n",
       "    .dataframe thead tr:last-of-type th {\n",
       "        text-align: right;\n",
       "    }\n",
       "</style>\n",
       "<table border=\"1\" class=\"dataframe\">\n",
       "  <thead>\n",
       "    <tr>\n",
       "      <th></th>\n",
       "      <th></th>\n",
       "      <th colspan=\"9\" halign=\"left\">free_docks_ratio_start</th>\n",
       "      <th colspan=\"9\" halign=\"left\">free_docks_ratio_target</th>\n",
       "    </tr>\n",
       "    <tr>\n",
       "      <th></th>\n",
       "      <th>stationCode</th>\n",
       "      <th>2006</th>\n",
       "      <th>2008</th>\n",
       "      <th>2009</th>\n",
       "      <th>2111</th>\n",
       "      <th>2112</th>\n",
       "      <th>21205</th>\n",
       "      <th>21209</th>\n",
       "      <th>21212</th>\n",
       "      <th>21215</th>\n",
       "      <th>2006</th>\n",
       "      <th>2008</th>\n",
       "      <th>2009</th>\n",
       "      <th>2111</th>\n",
       "      <th>2112</th>\n",
       "      <th>21205</th>\n",
       "      <th>21209</th>\n",
       "      <th>21212</th>\n",
       "      <th>21215</th>\n",
       "    </tr>\n",
       "    <tr>\n",
       "      <th>month</th>\n",
       "      <th>day</th>\n",
       "      <th></th>\n",
       "      <th></th>\n",
       "      <th></th>\n",
       "      <th></th>\n",
       "      <th></th>\n",
       "      <th></th>\n",
       "      <th></th>\n",
       "      <th></th>\n",
       "      <th></th>\n",
       "      <th></th>\n",
       "      <th></th>\n",
       "      <th></th>\n",
       "      <th></th>\n",
       "      <th></th>\n",
       "      <th></th>\n",
       "      <th></th>\n",
       "      <th></th>\n",
       "      <th></th>\n",
       "    </tr>\n",
       "  </thead>\n",
       "  <tbody>\n",
       "    <tr>\n",
       "      <th rowspan=\"5\" valign=\"top\">5</th>\n",
       "      <th>20</th>\n",
       "      <td>0.958333</td>\n",
       "      <td>0.642857</td>\n",
       "      <td>0.758621</td>\n",
       "      <td>0.733333</td>\n",
       "      <td>0.941176</td>\n",
       "      <td>0.653846</td>\n",
       "      <td>0.366667</td>\n",
       "      <td>0.818182</td>\n",
       "      <td>0.545455</td>\n",
       "      <td>0.750000</td>\n",
       "      <td>0.571429</td>\n",
       "      <td>0.586207</td>\n",
       "      <td>0.700000</td>\n",
       "      <td>0.823529</td>\n",
       "      <td>0.500000</td>\n",
       "      <td>0.600000</td>\n",
       "      <td>0.954545</td>\n",
       "      <td>0.545455</td>\n",
       "    </tr>\n",
       "    <tr>\n",
       "      <th>21</th>\n",
       "      <td>0.833333</td>\n",
       "      <td>0.964286</td>\n",
       "      <td>0.913793</td>\n",
       "      <td>0.866667</td>\n",
       "      <td>0.882353</td>\n",
       "      <td>0.730769</td>\n",
       "      <td>0.200000</td>\n",
       "      <td>0.863636</td>\n",
       "      <td>0.484848</td>\n",
       "      <td>0.875000</td>\n",
       "      <td>0.964286</td>\n",
       "      <td>0.913793</td>\n",
       "      <td>0.866667</td>\n",
       "      <td>0.764706</td>\n",
       "      <td>0.769231</td>\n",
       "      <td>0.300000</td>\n",
       "      <td>0.909091</td>\n",
       "      <td>0.484848</td>\n",
       "    </tr>\n",
       "    <tr>\n",
       "      <th>22</th>\n",
       "      <td>0.791667</td>\n",
       "      <td>0.928571</td>\n",
       "      <td>0.931034</td>\n",
       "      <td>0.600000</td>\n",
       "      <td>1.000000</td>\n",
       "      <td>0.653846</td>\n",
       "      <td>0.400000</td>\n",
       "      <td>0.863636</td>\n",
       "      <td>0.333333</td>\n",
       "      <td>0.791667</td>\n",
       "      <td>0.928571</td>\n",
       "      <td>0.913793</td>\n",
       "      <td>0.600000</td>\n",
       "      <td>1.000000</td>\n",
       "      <td>0.615385</td>\n",
       "      <td>0.500000</td>\n",
       "      <td>0.954545</td>\n",
       "      <td>0.363636</td>\n",
       "    </tr>\n",
       "    <tr>\n",
       "      <th>23</th>\n",
       "      <td>0.583333</td>\n",
       "      <td>0.785714</td>\n",
       "      <td>0.344828</td>\n",
       "      <td>0.766667</td>\n",
       "      <td>0.588235</td>\n",
       "      <td>0.846154</td>\n",
       "      <td>0.633333</td>\n",
       "      <td>0.545455</td>\n",
       "      <td>0.575758</td>\n",
       "      <td>0.333333</td>\n",
       "      <td>0.500000</td>\n",
       "      <td>0.086207</td>\n",
       "      <td>0.533333</td>\n",
       "      <td>0.294118</td>\n",
       "      <td>0.692308</td>\n",
       "      <td>0.766667</td>\n",
       "      <td>0.318182</td>\n",
       "      <td>0.303030</td>\n",
       "    </tr>\n",
       "    <tr>\n",
       "      <th>24</th>\n",
       "      <td>0.583333</td>\n",
       "      <td>0.464286</td>\n",
       "      <td>0.534483</td>\n",
       "      <td>0.833333</td>\n",
       "      <td>0.647059</td>\n",
       "      <td>0.961538</td>\n",
       "      <td>0.900000</td>\n",
       "      <td>0.500000</td>\n",
       "      <td>0.848485</td>\n",
       "      <td>0.166667</td>\n",
       "      <td>0.250000</td>\n",
       "      <td>0.224138</td>\n",
       "      <td>0.566667</td>\n",
       "      <td>0.411765</td>\n",
       "      <td>0.884615</td>\n",
       "      <td>0.933333</td>\n",
       "      <td>0.227273</td>\n",
       "      <td>0.696970</td>\n",
       "    </tr>\n",
       "    <tr>\n",
       "      <th>...</th>\n",
       "      <th>...</th>\n",
       "      <td>...</td>\n",
       "      <td>...</td>\n",
       "      <td>...</td>\n",
       "      <td>...</td>\n",
       "      <td>...</td>\n",
       "      <td>...</td>\n",
       "      <td>...</td>\n",
       "      <td>...</td>\n",
       "      <td>...</td>\n",
       "      <td>...</td>\n",
       "      <td>...</td>\n",
       "      <td>...</td>\n",
       "      <td>...</td>\n",
       "      <td>...</td>\n",
       "      <td>...</td>\n",
       "      <td>...</td>\n",
       "      <td>...</td>\n",
       "      <td>...</td>\n",
       "    </tr>\n",
       "    <tr>\n",
       "      <th rowspan=\"5\" valign=\"top\">12</th>\n",
       "      <th>14</th>\n",
       "      <td>0.666667</td>\n",
       "      <td>0.678571</td>\n",
       "      <td>0.551724</td>\n",
       "      <td>0.600000</td>\n",
       "      <td>0.823529</td>\n",
       "      <td>0.846154</td>\n",
       "      <td>0.900000</td>\n",
       "      <td>1.000000</td>\n",
       "      <td>0.848485</td>\n",
       "      <td>0.458333</td>\n",
       "      <td>0.535714</td>\n",
       "      <td>0.362069</td>\n",
       "      <td>0.500000</td>\n",
       "      <td>0.470588</td>\n",
       "      <td>0.692308</td>\n",
       "      <td>0.900000</td>\n",
       "      <td>0.954545</td>\n",
       "      <td>0.909091</td>\n",
       "    </tr>\n",
       "    <tr>\n",
       "      <th>15</th>\n",
       "      <td>0.750000</td>\n",
       "      <td>0.678571</td>\n",
       "      <td>0.741379</td>\n",
       "      <td>0.833333</td>\n",
       "      <td>0.823529</td>\n",
       "      <td>0.846154</td>\n",
       "      <td>0.733333</td>\n",
       "      <td>0.818182</td>\n",
       "      <td>0.636364</td>\n",
       "      <td>0.458333</td>\n",
       "      <td>0.500000</td>\n",
       "      <td>0.465517</td>\n",
       "      <td>0.566667</td>\n",
       "      <td>0.470588</td>\n",
       "      <td>0.730769</td>\n",
       "      <td>0.866667</td>\n",
       "      <td>0.863636</td>\n",
       "      <td>0.454545</td>\n",
       "    </tr>\n",
       "    <tr>\n",
       "      <th>16</th>\n",
       "      <td>0.583333</td>\n",
       "      <td>0.964286</td>\n",
       "      <td>0.913793</td>\n",
       "      <td>0.866667</td>\n",
       "      <td>0.941176</td>\n",
       "      <td>0.846154</td>\n",
       "      <td>0.700000</td>\n",
       "      <td>0.772727</td>\n",
       "      <td>0.878788</td>\n",
       "      <td>0.375000</td>\n",
       "      <td>0.928571</td>\n",
       "      <td>0.724138</td>\n",
       "      <td>0.800000</td>\n",
       "      <td>0.823529</td>\n",
       "      <td>0.846154</td>\n",
       "      <td>0.800000</td>\n",
       "      <td>0.863636</td>\n",
       "      <td>0.878788</td>\n",
       "    </tr>\n",
       "    <tr>\n",
       "      <th>17</th>\n",
       "      <td>0.791667</td>\n",
       "      <td>0.892857</td>\n",
       "      <td>0.948276</td>\n",
       "      <td>0.900000</td>\n",
       "      <td>0.941176</td>\n",
       "      <td>0.692308</td>\n",
       "      <td>0.633333</td>\n",
       "      <td>0.590909</td>\n",
       "      <td>0.666667</td>\n",
       "      <td>0.750000</td>\n",
       "      <td>0.892857</td>\n",
       "      <td>0.931034</td>\n",
       "      <td>0.900000</td>\n",
       "      <td>0.941176</td>\n",
       "      <td>0.692308</td>\n",
       "      <td>0.666667</td>\n",
       "      <td>0.590909</td>\n",
       "      <td>0.727273</td>\n",
       "    </tr>\n",
       "    <tr>\n",
       "      <th>18</th>\n",
       "      <td>0.791667</td>\n",
       "      <td>0.785714</td>\n",
       "      <td>0.913793</td>\n",
       "      <td>0.733333</td>\n",
       "      <td>1.000000</td>\n",
       "      <td>0.884615</td>\n",
       "      <td>0.600000</td>\n",
       "      <td>0.818182</td>\n",
       "      <td>0.939394</td>\n",
       "      <td>0.750000</td>\n",
       "      <td>0.785714</td>\n",
       "      <td>0.896552</td>\n",
       "      <td>0.666667</td>\n",
       "      <td>1.000000</td>\n",
       "      <td>0.884615</td>\n",
       "      <td>0.633333</td>\n",
       "      <td>0.818182</td>\n",
       "      <td>0.939394</td>\n",
       "    </tr>\n",
       "  </tbody>\n",
       "</table>\n",
       "<p>191 rows × 18 columns</p>\n",
       "</div>"
      ],
      "text/plain": [
       "            free_docks_ratio_start                                          \\\n",
       "stationCode                   2006      2008      2009      2111      2112   \n",
       "month day                                                                    \n",
       "5     20                  0.958333  0.642857  0.758621  0.733333  0.941176   \n",
       "      21                  0.833333  0.964286  0.913793  0.866667  0.882353   \n",
       "      22                  0.791667  0.928571  0.931034  0.600000  1.000000   \n",
       "      23                  0.583333  0.785714  0.344828  0.766667  0.588235   \n",
       "      24                  0.583333  0.464286  0.534483  0.833333  0.647059   \n",
       "...                            ...       ...       ...       ...       ...   \n",
       "12    14                  0.666667  0.678571  0.551724  0.600000  0.823529   \n",
       "      15                  0.750000  0.678571  0.741379  0.833333  0.823529   \n",
       "      16                  0.583333  0.964286  0.913793  0.866667  0.941176   \n",
       "      17                  0.791667  0.892857  0.948276  0.900000  0.941176   \n",
       "      18                  0.791667  0.785714  0.913793  0.733333  1.000000   \n",
       "\n",
       "                                                    free_docks_ratio_target  \\\n",
       "stationCode     21205     21209     21212     21215                    2006   \n",
       "month day                                                                     \n",
       "5     20     0.653846  0.366667  0.818182  0.545455                0.750000   \n",
       "      21     0.730769  0.200000  0.863636  0.484848                0.875000   \n",
       "      22     0.653846  0.400000  0.863636  0.333333                0.791667   \n",
       "      23     0.846154  0.633333  0.545455  0.575758                0.333333   \n",
       "      24     0.961538  0.900000  0.500000  0.848485                0.166667   \n",
       "...               ...       ...       ...       ...                     ...   \n",
       "12    14     0.846154  0.900000  1.000000  0.848485                0.458333   \n",
       "      15     0.846154  0.733333  0.818182  0.636364                0.458333   \n",
       "      16     0.846154  0.700000  0.772727  0.878788                0.375000   \n",
       "      17     0.692308  0.633333  0.590909  0.666667                0.750000   \n",
       "      18     0.884615  0.600000  0.818182  0.939394                0.750000   \n",
       "\n",
       "                                                                         \\\n",
       "stationCode      2008      2009      2111      2112     21205     21209   \n",
       "month day                                                                 \n",
       "5     20     0.571429  0.586207  0.700000  0.823529  0.500000  0.600000   \n",
       "      21     0.964286  0.913793  0.866667  0.764706  0.769231  0.300000   \n",
       "      22     0.928571  0.913793  0.600000  1.000000  0.615385  0.500000   \n",
       "      23     0.500000  0.086207  0.533333  0.294118  0.692308  0.766667   \n",
       "      24     0.250000  0.224138  0.566667  0.411765  0.884615  0.933333   \n",
       "...               ...       ...       ...       ...       ...       ...   \n",
       "12    14     0.535714  0.362069  0.500000  0.470588  0.692308  0.900000   \n",
       "      15     0.500000  0.465517  0.566667  0.470588  0.730769  0.866667   \n",
       "      16     0.928571  0.724138  0.800000  0.823529  0.846154  0.800000   \n",
       "      17     0.892857  0.931034  0.900000  0.941176  0.692308  0.666667   \n",
       "      18     0.785714  0.896552  0.666667  1.000000  0.884615  0.633333   \n",
       "\n",
       "                                 \n",
       "stationCode     21212     21215  \n",
       "month day                        \n",
       "5     20     0.954545  0.545455  \n",
       "      21     0.909091  0.484848  \n",
       "      22     0.954545  0.363636  \n",
       "      23     0.318182  0.303030  \n",
       "      24     0.227273  0.696970  \n",
       "...               ...       ...  \n",
       "12    14     0.954545  0.909091  \n",
       "      15     0.863636  0.454545  \n",
       "      16     0.863636  0.878788  \n",
       "      17     0.590909  0.727273  \n",
       "      18     0.818182  0.939394  \n",
       "\n",
       "[191 rows x 18 columns]"
      ]
     },
     "execution_count": 67,
     "metadata": {},
     "output_type": "execute_result"
    }
   ],
   "source": [
    "output_df = start_time_data.merge(target_time_data, left_index=True, right_index=True, suffixes=[\"_start\", \"_target\"])\n",
    "output_df"
   ]
  },
  {
   "cell_type": "markdown",
   "id": "c2e76682-553e-43e9-a491-b95d5016de77",
   "metadata": {},
   "source": [
    "## Visual investigation of start and target free docks ratios "
   ]
  },
  {
   "cell_type": "code",
   "execution_count": 68,
   "id": "6de16fad-f08f-47e7-904d-48c020b3191c",
   "metadata": {},
   "outputs": [],
   "source": [
    "def display_start_target_hist(start_station, target_station, gridsize=20):\n",
    "    \n",
    "    ax = output_df.plot.hexbin(\n",
    "        x=( 'free_docks_ratio_start',  start_station), \n",
    "        y=('free_docks_ratio_target',  target_station), \n",
    "        gridsize=gridsize,\n",
    "        figsize=(7,6)\n",
    "    )\n",
    "    ax.plot((0,1), (0,1), color=\"red\")"
   ]
  },
  {
   "cell_type": "code",
   "execution_count": 69,
   "id": "4545792e-12fe-46d9-b49e-abd2e586416e",
   "metadata": {},
   "outputs": [
    {
     "data": {
      "image/png": "[encoded data removed]",
      "text/plain": [
       "<Figure size 504x432 with 2 Axes>"
      ]
     },
     "metadata": {
      "needs_background": "light"
     },
     "output_type": "display_data"
    }
   ],
   "source": [
    "display_start_target_hist(\"2112\", \"2112\")"
   ]
  },
  {
   "cell_type": "markdown",
   "id": "2d939192-5b59-479a-bc7a-4517623f8282",
   "metadata": {},
   "source": [
    "From the previous graph, it appears that the starting ratio is always below the final ratio, *i.e.* the station is mostly receiving bikes (instead of losing bikes). For comparison, the station 21209 should be losing bikes:"
   ]
  },
  {
   "cell_type": "code",
   "execution_count": 70,
   "id": "1bd405d9-8d55-4acd-898f-56668f068f05",
   "metadata": {},
   "outputs": [
    {
     "data": {
      "image/png": "[encoded data removed]",
      "text/plain": [
       "<Figure size 504x432 with 2 Axes>"
      ]
     },
     "metadata": {
      "needs_background": "light"
     },
     "output_type": "display_data"
    }
   ],
   "source": [
    "display_start_target_hist(\"21209\", \"21209\")"
   ]
  },
  {
   "cell_type": "markdown",
   "id": "f30d96af-1f8e-40d5-9109-0f6b97db38cb",
   "metadata": {},
   "source": [
    "It appears to be loosing bike indeed, but fairly slowly!"
   ]
  },
  {
   "cell_type": "code",
   "execution_count": 71,
   "id": "bff773f2-f559-4c5b-93da-ef8210df86e4",
   "metadata": {},
   "outputs": [
    {
     "data": {
      "image/png": "[encoded data removed]",
      "text/plain": [
       "<Figure size 504x432 with 2 Axes>"
      ]
     },
     "metadata": {
      "needs_background": "light"
     },
     "output_type": "display_data"
    }
   ],
   "source": [
    "display_start_target_hist(\"2009\", \"2009\")"
   ]
  },
  {
   "cell_type": "code",
   "execution_count": 72,
   "id": "4f0d9291-1406-40bf-926a-41184886207a",
   "metadata": {},
   "outputs": [
    {
     "data": {
      "image/png": "[encoded data removed]",
      "text/plain": [
       "<Figure size 504x432 with 2 Axes>"
      ]
     },
     "metadata": {
      "needs_background": "light"
     },
     "output_type": "display_data"
    }
   ],
   "source": [
    "display_start_target_hist(\"2006\", \"2006\")"
   ]
  },
  {
   "cell_type": "markdown",
   "id": "768d2555-388e-432a-83a5-7a260a95494e",
   "metadata": {},
   "source": [
    "## Including date data\n",
    "\n",
    "Create a table including the characteristics of the date under consideration. \n",
    "\n",
    "This is the table where we should input:\n",
    "* week-day vs week-end\n",
    "* holiday or not\n",
    "* temperature\n",
    "* weather\n",
    "\n",
    "For the original version, we could start with the simplest characteristics."
   ]
  },
  {
   "cell_type": "code",
   "execution_count": 73,
   "id": "b261006f-685d-4975-8f6f-b630d258b495",
   "metadata": {},
   "outputs": [],
   "source": [
    "import numpy as np"
   ]
  },
  {
   "cell_type": "code",
   "execution_count": 74,
   "id": "c326c8d7-faab-460f-b740-779f9e09d802",
   "metadata": {},
   "outputs": [],
   "source": [
    "date_data = pd.DataFrame(pd.to_datetime(np.unique(summary_df.index.date)), columns=[\"date\"])"
   ]
  },
  {
   "cell_type": "code",
   "execution_count": 75,
   "id": "7baee803-46d1-4e27-86ab-e0e0777aa869",
   "metadata": {},
   "outputs": [
    {
     "data": {
      "text/plain": [
       "0     2022-05-20\n",
       "1     2022-05-21\n",
       "2     2022-05-22\n",
       "3     2022-05-23\n",
       "4     2022-05-24\n",
       "         ...    \n",
       "186   2022-12-14\n",
       "187   2022-12-15\n",
       "188   2022-12-16\n",
       "189   2022-12-17\n",
       "190   2022-12-18\n",
       "Name: date, Length: 191, dtype: datetime64[ns]"
      ]
     },
     "execution_count": 75,
     "metadata": {},
     "output_type": "execute_result"
    }
   ],
   "source": [
    "date_data[\"date\"]"
   ]
  },
  {
   "cell_type": "code",
   "execution_count": 76,
   "id": "fbcd506a-a688-4228-95f9-393de8c25055",
   "metadata": {},
   "outputs": [],
   "source": [
    "date_data[\"week_day\"] = date_data[\"date\"].dt.weekday\n",
    "date_data[\"month\"] = date_data[\"date\"].dt.month\n",
    "date_data[\"day\"] = date_data[\"date\"].dt.day"
   ]
  },
  {
   "cell_type": "code",
   "execution_count": 77,
   "id": "ee63e6f3-e0f0-4cfc-87e9-8d6eea1565d5",
   "metadata": {},
   "outputs": [],
   "source": [
    "date_data[\"week-end\"] = date_data[\"week_day\"].isin(week_ends)"
   ]
  },
  {
   "cell_type": "code",
   "execution_count": 78,
   "id": "004276c0-232f-48b7-8acb-eb170c10bbc3",
   "metadata": {},
   "outputs": [
    {
     "data": {
      "text/html": [
       "<div>\n",
       "<style scoped>\n",
       "    .dataframe tbody tr th:only-of-type {\n",
       "        vertical-align: middle;\n",
       "    }\n",
       "\n",
       "    .dataframe tbody tr th {\n",
       "        vertical-align: top;\n",
       "    }\n",
       "\n",
       "    .dataframe thead th {\n",
       "        text-align: right;\n",
       "    }\n",
       "</style>\n",
       "<table border=\"1\" class=\"dataframe\">\n",
       "  <thead>\n",
       "    <tr style=\"text-align: right;\">\n",
       "      <th></th>\n",
       "      <th>date</th>\n",
       "      <th>week_day</th>\n",
       "      <th>month</th>\n",
       "      <th>day</th>\n",
       "      <th>week-end</th>\n",
       "    </tr>\n",
       "  </thead>\n",
       "  <tbody>\n",
       "    <tr>\n",
       "      <th>0</th>\n",
       "      <td>2022-05-20</td>\n",
       "      <td>4</td>\n",
       "      <td>5</td>\n",
       "      <td>20</td>\n",
       "      <td>False</td>\n",
       "    </tr>\n",
       "    <tr>\n",
       "      <th>1</th>\n",
       "      <td>2022-05-21</td>\n",
       "      <td>5</td>\n",
       "      <td>5</td>\n",
       "      <td>21</td>\n",
       "      <td>True</td>\n",
       "    </tr>\n",
       "    <tr>\n",
       "      <th>2</th>\n",
       "      <td>2022-05-22</td>\n",
       "      <td>6</td>\n",
       "      <td>5</td>\n",
       "      <td>22</td>\n",
       "      <td>True</td>\n",
       "    </tr>\n",
       "    <tr>\n",
       "      <th>3</th>\n",
       "      <td>2022-05-23</td>\n",
       "      <td>0</td>\n",
       "      <td>5</td>\n",
       "      <td>23</td>\n",
       "      <td>False</td>\n",
       "    </tr>\n",
       "    <tr>\n",
       "      <th>4</th>\n",
       "      <td>2022-05-24</td>\n",
       "      <td>1</td>\n",
       "      <td>5</td>\n",
       "      <td>24</td>\n",
       "      <td>False</td>\n",
       "    </tr>\n",
       "    <tr>\n",
       "      <th>...</th>\n",
       "      <td>...</td>\n",
       "      <td>...</td>\n",
       "      <td>...</td>\n",
       "      <td>...</td>\n",
       "      <td>...</td>\n",
       "    </tr>\n",
       "    <tr>\n",
       "      <th>186</th>\n",
       "      <td>2022-12-14</td>\n",
       "      <td>2</td>\n",
       "      <td>12</td>\n",
       "      <td>14</td>\n",
       "      <td>False</td>\n",
       "    </tr>\n",
       "    <tr>\n",
       "      <th>187</th>\n",
       "      <td>2022-12-15</td>\n",
       "      <td>3</td>\n",
       "      <td>12</td>\n",
       "      <td>15</td>\n",
       "      <td>False</td>\n",
       "    </tr>\n",
       "    <tr>\n",
       "      <th>188</th>\n",
       "      <td>2022-12-16</td>\n",
       "      <td>4</td>\n",
       "      <td>12</td>\n",
       "      <td>16</td>\n",
       "      <td>False</td>\n",
       "    </tr>\n",
       "    <tr>\n",
       "      <th>189</th>\n",
       "      <td>2022-12-17</td>\n",
       "      <td>5</td>\n",
       "      <td>12</td>\n",
       "      <td>17</td>\n",
       "      <td>True</td>\n",
       "    </tr>\n",
       "    <tr>\n",
       "      <th>190</th>\n",
       "      <td>2022-12-18</td>\n",
       "      <td>6</td>\n",
       "      <td>12</td>\n",
       "      <td>18</td>\n",
       "      <td>True</td>\n",
       "    </tr>\n",
       "  </tbody>\n",
       "</table>\n",
       "<p>191 rows × 5 columns</p>\n",
       "</div>"
      ],
      "text/plain": [
       "          date  week_day  month  day  week-end\n",
       "0   2022-05-20         4      5   20     False\n",
       "1   2022-05-21         5      5   21      True\n",
       "2   2022-05-22         6      5   22      True\n",
       "3   2022-05-23         0      5   23     False\n",
       "4   2022-05-24         1      5   24     False\n",
       "..         ...       ...    ...  ...       ...\n",
       "186 2022-12-14         2     12   14     False\n",
       "187 2022-12-15         3     12   15     False\n",
       "188 2022-12-16         4     12   16     False\n",
       "189 2022-12-17         5     12   17      True\n",
       "190 2022-12-18         6     12   18      True\n",
       "\n",
       "[191 rows x 5 columns]"
      ]
     },
     "execution_count": 78,
     "metadata": {},
     "output_type": "execute_result"
    }
   ],
   "source": [
    "date_data"
   ]
  },
  {
   "cell_type": "code",
   "execution_count": 79,
   "id": "de3d5c1a-4129-4689-a8a2-a199234ae0ed",
   "metadata": {},
   "outputs": [
    {
     "data": {
      "text/html": [
       "<div>\n",
       "<style scoped>\n",
       "    .dataframe tbody tr th:only-of-type {\n",
       "        vertical-align: middle;\n",
       "    }\n",
       "\n",
       "    .dataframe tbody tr th {\n",
       "        vertical-align: top;\n",
       "    }\n",
       "\n",
       "    .dataframe thead tr th {\n",
       "        text-align: left;\n",
       "    }\n",
       "\n",
       "    .dataframe thead tr:last-of-type th {\n",
       "        text-align: right;\n",
       "    }\n",
       "</style>\n",
       "<table border=\"1\" class=\"dataframe\">\n",
       "  <thead>\n",
       "    <tr>\n",
       "      <th></th>\n",
       "      <th></th>\n",
       "      <th colspan=\"9\" halign=\"left\">free_docks_ratio_start</th>\n",
       "      <th colspan=\"9\" halign=\"left\">free_docks_ratio_target</th>\n",
       "    </tr>\n",
       "    <tr>\n",
       "      <th></th>\n",
       "      <th>stationCode</th>\n",
       "      <th>2006</th>\n",
       "      <th>2008</th>\n",
       "      <th>2009</th>\n",
       "      <th>2111</th>\n",
       "      <th>2112</th>\n",
       "      <th>21205</th>\n",
       "      <th>21209</th>\n",
       "      <th>21212</th>\n",
       "      <th>21215</th>\n",
       "      <th>2006</th>\n",
       "      <th>2008</th>\n",
       "      <th>2009</th>\n",
       "      <th>2111</th>\n",
       "      <th>2112</th>\n",
       "      <th>21205</th>\n",
       "      <th>21209</th>\n",
       "      <th>21212</th>\n",
       "      <th>21215</th>\n",
       "    </tr>\n",
       "    <tr>\n",
       "      <th>month</th>\n",
       "      <th>day</th>\n",
       "      <th></th>\n",
       "      <th></th>\n",
       "      <th></th>\n",
       "      <th></th>\n",
       "      <th></th>\n",
       "      <th></th>\n",
       "      <th></th>\n",
       "      <th></th>\n",
       "      <th></th>\n",
       "      <th></th>\n",
       "      <th></th>\n",
       "      <th></th>\n",
       "      <th></th>\n",
       "      <th></th>\n",
       "      <th></th>\n",
       "      <th></th>\n",
       "      <th></th>\n",
       "      <th></th>\n",
       "    </tr>\n",
       "  </thead>\n",
       "  <tbody>\n",
       "    <tr>\n",
       "      <th rowspan=\"5\" valign=\"top\">5</th>\n",
       "      <th>20</th>\n",
       "      <td>0.958333</td>\n",
       "      <td>0.642857</td>\n",
       "      <td>0.758621</td>\n",
       "      <td>0.733333</td>\n",
       "      <td>0.941176</td>\n",
       "      <td>0.653846</td>\n",
       "      <td>0.366667</td>\n",
       "      <td>0.818182</td>\n",
       "      <td>0.545455</td>\n",
       "      <td>0.750000</td>\n",
       "      <td>0.571429</td>\n",
       "      <td>0.586207</td>\n",
       "      <td>0.700000</td>\n",
       "      <td>0.823529</td>\n",
       "      <td>0.500000</td>\n",
       "      <td>0.600000</td>\n",
       "      <td>0.954545</td>\n",
       "      <td>0.545455</td>\n",
       "    </tr>\n",
       "    <tr>\n",
       "      <th>21</th>\n",
       "      <td>0.833333</td>\n",
       "      <td>0.964286</td>\n",
       "      <td>0.913793</td>\n",
       "      <td>0.866667</td>\n",
       "      <td>0.882353</td>\n",
       "      <td>0.730769</td>\n",
       "      <td>0.200000</td>\n",
       "      <td>0.863636</td>\n",
       "      <td>0.484848</td>\n",
       "      <td>0.875000</td>\n",
       "      <td>0.964286</td>\n",
       "      <td>0.913793</td>\n",
       "      <td>0.866667</td>\n",
       "      <td>0.764706</td>\n",
       "      <td>0.769231</td>\n",
       "      <td>0.300000</td>\n",
       "      <td>0.909091</td>\n",
       "      <td>0.484848</td>\n",
       "    </tr>\n",
       "    <tr>\n",
       "      <th>22</th>\n",
       "      <td>0.791667</td>\n",
       "      <td>0.928571</td>\n",
       "      <td>0.931034</td>\n",
       "      <td>0.600000</td>\n",
       "      <td>1.000000</td>\n",
       "      <td>0.653846</td>\n",
       "      <td>0.400000</td>\n",
       "      <td>0.863636</td>\n",
       "      <td>0.333333</td>\n",
       "      <td>0.791667</td>\n",
       "      <td>0.928571</td>\n",
       "      <td>0.913793</td>\n",
       "      <td>0.600000</td>\n",
       "      <td>1.000000</td>\n",
       "      <td>0.615385</td>\n",
       "      <td>0.500000</td>\n",
       "      <td>0.954545</td>\n",
       "      <td>0.363636</td>\n",
       "    </tr>\n",
       "    <tr>\n",
       "      <th>23</th>\n",
       "      <td>0.583333</td>\n",
       "      <td>0.785714</td>\n",
       "      <td>0.344828</td>\n",
       "      <td>0.766667</td>\n",
       "      <td>0.588235</td>\n",
       "      <td>0.846154</td>\n",
       "      <td>0.633333</td>\n",
       "      <td>0.545455</td>\n",
       "      <td>0.575758</td>\n",
       "      <td>0.333333</td>\n",
       "      <td>0.500000</td>\n",
       "      <td>0.086207</td>\n",
       "      <td>0.533333</td>\n",
       "      <td>0.294118</td>\n",
       "      <td>0.692308</td>\n",
       "      <td>0.766667</td>\n",
       "      <td>0.318182</td>\n",
       "      <td>0.303030</td>\n",
       "    </tr>\n",
       "    <tr>\n",
       "      <th>24</th>\n",
       "      <td>0.583333</td>\n",
       "      <td>0.464286</td>\n",
       "      <td>0.534483</td>\n",
       "      <td>0.833333</td>\n",
       "      <td>0.647059</td>\n",
       "      <td>0.961538</td>\n",
       "      <td>0.900000</td>\n",
       "      <td>0.500000</td>\n",
       "      <td>0.848485</td>\n",
       "      <td>0.166667</td>\n",
       "      <td>0.250000</td>\n",
       "      <td>0.224138</td>\n",
       "      <td>0.566667</td>\n",
       "      <td>0.411765</td>\n",
       "      <td>0.884615</td>\n",
       "      <td>0.933333</td>\n",
       "      <td>0.227273</td>\n",
       "      <td>0.696970</td>\n",
       "    </tr>\n",
       "    <tr>\n",
       "      <th>...</th>\n",
       "      <th>...</th>\n",
       "      <td>...</td>\n",
       "      <td>...</td>\n",
       "      <td>...</td>\n",
       "      <td>...</td>\n",
       "      <td>...</td>\n",
       "      <td>...</td>\n",
       "      <td>...</td>\n",
       "      <td>...</td>\n",
       "      <td>...</td>\n",
       "      <td>...</td>\n",
       "      <td>...</td>\n",
       "      <td>...</td>\n",
       "      <td>...</td>\n",
       "      <td>...</td>\n",
       "      <td>...</td>\n",
       "      <td>...</td>\n",
       "      <td>...</td>\n",
       "      <td>...</td>\n",
       "    </tr>\n",
       "    <tr>\n",
       "      <th rowspan=\"5\" valign=\"top\">12</th>\n",
       "      <th>14</th>\n",
       "      <td>0.666667</td>\n",
       "      <td>0.678571</td>\n",
       "      <td>0.551724</td>\n",
       "      <td>0.600000</td>\n",
       "      <td>0.823529</td>\n",
       "      <td>0.846154</td>\n",
       "      <td>0.900000</td>\n",
       "      <td>1.000000</td>\n",
       "      <td>0.848485</td>\n",
       "      <td>0.458333</td>\n",
       "      <td>0.535714</td>\n",
       "      <td>0.362069</td>\n",
       "      <td>0.500000</td>\n",
       "      <td>0.470588</td>\n",
       "      <td>0.692308</td>\n",
       "      <td>0.900000</td>\n",
       "      <td>0.954545</td>\n",
       "      <td>0.909091</td>\n",
       "    </tr>\n",
       "    <tr>\n",
       "      <th>15</th>\n",
       "      <td>0.750000</td>\n",
       "      <td>0.678571</td>\n",
       "      <td>0.741379</td>\n",
       "      <td>0.833333</td>\n",
       "      <td>0.823529</td>\n",
       "      <td>0.846154</td>\n",
       "      <td>0.733333</td>\n",
       "      <td>0.818182</td>\n",
       "      <td>0.636364</td>\n",
       "      <td>0.458333</td>\n",
       "      <td>0.500000</td>\n",
       "      <td>0.465517</td>\n",
       "      <td>0.566667</td>\n",
       "      <td>0.470588</td>\n",
       "      <td>0.730769</td>\n",
       "      <td>0.866667</td>\n",
       "      <td>0.863636</td>\n",
       "      <td>0.454545</td>\n",
       "    </tr>\n",
       "    <tr>\n",
       "      <th>16</th>\n",
       "      <td>0.583333</td>\n",
       "      <td>0.964286</td>\n",
       "      <td>0.913793</td>\n",
       "      <td>0.866667</td>\n",
       "      <td>0.941176</td>\n",
       "      <td>0.846154</td>\n",
       "      <td>0.700000</td>\n",
       "      <td>0.772727</td>\n",
       "      <td>0.878788</td>\n",
       "      <td>0.375000</td>\n",
       "      <td>0.928571</td>\n",
       "      <td>0.724138</td>\n",
       "      <td>0.800000</td>\n",
       "      <td>0.823529</td>\n",
       "      <td>0.846154</td>\n",
       "      <td>0.800000</td>\n",
       "      <td>0.863636</td>\n",
       "      <td>0.878788</td>\n",
       "    </tr>\n",
       "    <tr>\n",
       "      <th>17</th>\n",
       "      <td>0.791667</td>\n",
       "      <td>0.892857</td>\n",
       "      <td>0.948276</td>\n",
       "      <td>0.900000</td>\n",
       "      <td>0.941176</td>\n",
       "      <td>0.692308</td>\n",
       "      <td>0.633333</td>\n",
       "      <td>0.590909</td>\n",
       "      <td>0.666667</td>\n",
       "      <td>0.750000</td>\n",
       "      <td>0.892857</td>\n",
       "      <td>0.931034</td>\n",
       "      <td>0.900000</td>\n",
       "      <td>0.941176</td>\n",
       "      <td>0.692308</td>\n",
       "      <td>0.666667</td>\n",
       "      <td>0.590909</td>\n",
       "      <td>0.727273</td>\n",
       "    </tr>\n",
       "    <tr>\n",
       "      <th>18</th>\n",
       "      <td>0.791667</td>\n",
       "      <td>0.785714</td>\n",
       "      <td>0.913793</td>\n",
       "      <td>0.733333</td>\n",
       "      <td>1.000000</td>\n",
       "      <td>0.884615</td>\n",
       "      <td>0.600000</td>\n",
       "      <td>0.818182</td>\n",
       "      <td>0.939394</td>\n",
       "      <td>0.750000</td>\n",
       "      <td>0.785714</td>\n",
       "      <td>0.896552</td>\n",
       "      <td>0.666667</td>\n",
       "      <td>1.000000</td>\n",
       "      <td>0.884615</td>\n",
       "      <td>0.633333</td>\n",
       "      <td>0.818182</td>\n",
       "      <td>0.939394</td>\n",
       "    </tr>\n",
       "  </tbody>\n",
       "</table>\n",
       "<p>191 rows × 18 columns</p>\n",
       "</div>"
      ],
      "text/plain": [
       "            free_docks_ratio_start                                          \\\n",
       "stationCode                   2006      2008      2009      2111      2112   \n",
       "month day                                                                    \n",
       "5     20                  0.958333  0.642857  0.758621  0.733333  0.941176   \n",
       "      21                  0.833333  0.964286  0.913793  0.866667  0.882353   \n",
       "      22                  0.791667  0.928571  0.931034  0.600000  1.000000   \n",
       "      23                  0.583333  0.785714  0.344828  0.766667  0.588235   \n",
       "      24                  0.583333  0.464286  0.534483  0.833333  0.647059   \n",
       "...                            ...       ...       ...       ...       ...   \n",
       "12    14                  0.666667  0.678571  0.551724  0.600000  0.823529   \n",
       "      15                  0.750000  0.678571  0.741379  0.833333  0.823529   \n",
       "      16                  0.583333  0.964286  0.913793  0.866667  0.941176   \n",
       "      17                  0.791667  0.892857  0.948276  0.900000  0.941176   \n",
       "      18                  0.791667  0.785714  0.913793  0.733333  1.000000   \n",
       "\n",
       "                                                    free_docks_ratio_target  \\\n",
       "stationCode     21205     21209     21212     21215                    2006   \n",
       "month day                                                                     \n",
       "5     20     0.653846  0.366667  0.818182  0.545455                0.750000   \n",
       "      21     0.730769  0.200000  0.863636  0.484848                0.875000   \n",
       "      22     0.653846  0.400000  0.863636  0.333333                0.791667   \n",
       "      23     0.846154  0.633333  0.545455  0.575758                0.333333   \n",
       "      24     0.961538  0.900000  0.500000  0.848485                0.166667   \n",
       "...               ...       ...       ...       ...                     ...   \n",
       "12    14     0.846154  0.900000  1.000000  0.848485                0.458333   \n",
       "      15     0.846154  0.733333  0.818182  0.636364                0.458333   \n",
       "      16     0.846154  0.700000  0.772727  0.878788                0.375000   \n",
       "      17     0.692308  0.633333  0.590909  0.666667                0.750000   \n",
       "      18     0.884615  0.600000  0.818182  0.939394                0.750000   \n",
       "\n",
       "                                                                         \\\n",
       "stationCode      2008      2009      2111      2112     21205     21209   \n",
       "month day                                                                 \n",
       "5     20     0.571429  0.586207  0.700000  0.823529  0.500000  0.600000   \n",
       "      21     0.964286  0.913793  0.866667  0.764706  0.769231  0.300000   \n",
       "      22     0.928571  0.913793  0.600000  1.000000  0.615385  0.500000   \n",
       "      23     0.500000  0.086207  0.533333  0.294118  0.692308  0.766667   \n",
       "      24     0.250000  0.224138  0.566667  0.411765  0.884615  0.933333   \n",
       "...               ...       ...       ...       ...       ...       ...   \n",
       "12    14     0.535714  0.362069  0.500000  0.470588  0.692308  0.900000   \n",
       "      15     0.500000  0.465517  0.566667  0.470588  0.730769  0.866667   \n",
       "      16     0.928571  0.724138  0.800000  0.823529  0.846154  0.800000   \n",
       "      17     0.892857  0.931034  0.900000  0.941176  0.692308  0.666667   \n",
       "      18     0.785714  0.896552  0.666667  1.000000  0.884615  0.633333   \n",
       "\n",
       "                                 \n",
       "stationCode     21212     21215  \n",
       "month day                        \n",
       "5     20     0.954545  0.545455  \n",
       "      21     0.909091  0.484848  \n",
       "      22     0.954545  0.363636  \n",
       "      23     0.318182  0.303030  \n",
       "      24     0.227273  0.696970  \n",
       "...               ...       ...  \n",
       "12    14     0.954545  0.909091  \n",
       "      15     0.863636  0.454545  \n",
       "      16     0.863636  0.878788  \n",
       "      17     0.590909  0.727273  \n",
       "      18     0.818182  0.939394  \n",
       "\n",
       "[191 rows x 18 columns]"
      ]
     },
     "execution_count": 79,
     "metadata": {},
     "output_type": "execute_result"
    }
   ],
   "source": [
    "output_df"
   ]
  }
 ],
 "metadata": {
  "kernelspec": {
   "display_name": "Python 3",
   "language": "python",
   "name": "python3"
  },
  "language_info": {
   "codemirror_mode": {
    "name": "ipython",
    "version": 3
   },
   "file_extension": ".py",
   "mimetype": "text/x-python",
   "name": "python",
   "nbconvert_exporter": "python",
   "pygments_lexer": "ipython3",
   "version": "3.8.8"
  }
 },
 "nbformat": 4,
 "nbformat_minor": 5
}

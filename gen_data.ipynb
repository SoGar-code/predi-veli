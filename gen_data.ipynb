{
 "cells": [
  {
   "cell_type": "markdown",
   "id": "0c0edabf-190a-4269-9f37-8c40ea6fdad4",
   "metadata": {},
   "source": [
    "# Generate daily data"
   ]
  },
  {
   "cell_type": "code",
   "execution_count": null,
   "id": "07936e14-9290-47ee-9087-df2c81b9178d",
   "metadata": {},
   "outputs": [],
   "source": [
    "%load_ext autoreload\n",
    "%autoreload 2"
   ]
  },
  {
   "cell_type": "code",
   "execution_count": null,
   "id": "5b309859-ddcd-48ff-90c3-a30bd7005d2e",
   "metadata": {},
   "outputs": [],
   "source": [
    "import os\n",
    "import pandas as pd\n",
    "\n",
    "import datetime"
   ]
  },
  {
   "cell_type": "markdown",
   "id": "0c9b027e",
   "metadata": {},
   "source": [
    "## Regular case"
   ]
  },
  {
   "cell_type": "code",
   "execution_count": null,
   "id": "fed0e951",
   "metadata": {},
   "outputs": [],
   "source": [
    "from src.daily_update import collect_statuses"
   ]
  },
  {
   "cell_type": "code",
   "execution_count": null,
   "id": "cac7a049",
   "metadata": {},
   "outputs": [],
   "source": [
    "date_range = pd.date_range(\"2022-05-11\", \"2022-05-17\")\n",
    "#date_range = pd.date_range(\"2022-05-11\", \"2022-05-11\")\n",
    "\n",
    "for day in date_range:\n",
    "    date_str = day.strftime(\"%Y-%m-%d\")\n",
    "\n",
    "    collect_statuses(date_str)\n",
    "    print(\"Completed: \", date_str)"
   ]
  },
  {
   "cell_type": "markdown",
   "id": "a97cf492-d758-486e-8d5a-cd8427d9e0f9",
   "metadata": {},
   "source": [
    "## Load 'historique_stations' data"
   ]
  },
  {
   "cell_type": "code",
   "execution_count": null,
   "id": "e73a1952-435f-40e5-9d11-00258a5b5e3e",
   "metadata": {},
   "outputs": [],
   "source": [
    "file_path = os.path.join(\"..\", \"data\", \"historique_stations_2022-04-30_233325.csv\")"
   ]
  },
  {
   "cell_type": "code",
   "execution_count": null,
   "id": "026b9460-3b3a-4729-b2ca-874f67769fb2",
   "metadata": {},
   "outputs": [],
   "source": [
    "def get_df(file_path):\n",
    "    \"\"\" Get dataframe from provided path \"\"\"\n",
    "    df = pd.read_csv(\n",
    "        file_path, \n",
    "        parse_dates=[0], \n",
    "        header=None, \n",
    "        names= [\"date\", \"capacity\",\"available_mechanical\",\"available_electrical\", \"stationCode\", \"station_geo\",\"operative\"]\n",
    "    )\n",
    "    return df"
   ]
  },
  {
   "cell_type": "code",
   "execution_count": null,
   "id": "f27d2588-7db5-4dc4-bcd4-99e90394727b",
   "metadata": {},
   "outputs": [],
   "source": [
    "df = get_df(file_path)\n",
    "df"
   ]
  },
  {
   "cell_type": "markdown",
   "id": "9a515f89-4ada-4b02-b3ab-15c5b8d0c2a8",
   "metadata": {},
   "source": [
    "### Extract specific stations"
   ]
  },
  {
   "cell_type": "code",
   "execution_count": null,
   "id": "5b639d9d-b6d8-4664-b1e6-c4331fed872b",
   "metadata": {},
   "outputs": [],
   "source": [
    "# NB: strings since some station names are not int(!)\n",
    "\n",
    "ref_ids = [\n",
    "    #\"Molière - République\",\n",
    "    '21209',\n",
    "    #\"Jean Marin Naudin - Stalingrad\",\n",
    "    '22202',\n",
    "    #\"Arthur Auger - Jean Jaurès\",\n",
    "    '21205',\n",
    "    #\"Marne - Germain Dardan\"\n",
    "    '21212',\n",
    "]"
   ]
  },
  {
   "cell_type": "code",
   "execution_count": null,
   "id": "388d1bf8-b82f-4cc8-9972-3ed6479383f8",
   "metadata": {},
   "outputs": [],
   "source": [
    "df[df[\"stationCode\"].isin(ref_ids)]"
   ]
  },
  {
   "cell_type": "markdown",
   "id": "60d065bc",
   "metadata": {},
   "source": [
    "## Load status data"
   ]
  },
  {
   "cell_type": "code",
   "execution_count": null,
   "id": "1ff45b26",
   "metadata": {},
   "outputs": [],
   "source": [
    "status_path = os.path.join(\"..\", \"data\", \"station_status_2022-05-01_080604.csv\")"
   ]
  },
  {
   "cell_type": "code",
   "execution_count": null,
   "id": "bf63d3a5",
   "metadata": {},
   "outputs": [],
   "source": [
    "def get_status_df(file_path):\n",
    "    \"\"\" Get dataframe from provided path \"\"\"\n",
    "    df = pd.read_csv(\n",
    "        file_path, \n",
    "        parse_dates=[0], \n",
    "        header=None, \n",
    "        names= [\"date\", \"station_code\", \"available_mechanical\", \"available_electrical\", \"operative\"],\n",
    "        index_col=\"date\"\n",
    "    )\n",
    "    return df"
   ]
  },
  {
   "cell_type": "code",
   "execution_count": null,
   "id": "51722129",
   "metadata": {},
   "outputs": [],
   "source": [
    "status_df = get_status_df(status_path)\n",
    "\n",
    "status_df"
   ]
  },
  {
   "cell_type": "markdown",
   "id": "c8acecb9-bf79-45b9-9d35-55c04bfda871",
   "metadata": {},
   "source": [
    "## Data cleaning and collection"
   ]
  },
  {
   "cell_type": "code",
   "execution_count": null,
   "id": "94768194-22a4-4fd2-9d77-966effc99295",
   "metadata": {},
   "outputs": [],
   "source": []
  },
  {
   "cell_type": "markdown",
   "id": "137d7552-1216-4d9f-8b42-66b3101cfa8d",
   "metadata": {},
   "source": [
    "### Process 2022-04-30"
   ]
  },
  {
   "cell_type": "code",
   "execution_count": null,
   "id": "bbdd4e0e-64b5-4683-801d-d4be921c0189",
   "metadata": {},
   "outputs": [],
   "source": [
    "from daily_update import get_historique_file\n",
    "\n",
    "\n",
    "data_path = os.listdir(\"../data\")\n",
    "\n",
    "process_04_30 = [os.path.join(\"..\", \"data\", file_name) for file_name in data_path if file_name.startswith(\"historique_stations_2022-04\")]\n",
    "\n",
    "print(process_04_30)\n",
    "\n",
    "# Create full histo df\n",
    "histo_df = pd.concat([get_historique_file(file_path, has_name=True) for file_path in process_04_30[:5]], axis=0)\n",
    "\n",
    "histo_df = pd.concat([get_historique_file(file_path, has_name=True, has_code=True) for file_path in process_04_30[5:9]]+[histo_df], axis=0)\n",
    "\n",
    "histo_df = pd.concat([get_historique_file(file_path, has_code=True) for file_path in process_04_30[9:]]+[histo_df], axis=0)\n",
    "\n",
    "histo_df.sort_index(inplace=True)\n",
    "\n",
    "#histo_df.drop_duplicates(inplace=True)\n",
    "#histo_df.to_parquet(\"..\\data\\Summary_2022-04-30.parquet\")"
   ]
  },
  {
   "cell_type": "code",
   "execution_count": null,
   "id": "fc5dcff5",
   "metadata": {},
   "outputs": [],
   "source": [
    "len(histo_df)"
   ]
  },
  {
   "cell_type": "code",
   "execution_count": null,
   "id": "32b2d61d-ceb5-4179-b399-de154641c8fd",
   "metadata": {},
   "outputs": [],
   "source": [
    "\n",
    "len(histo_df)"
   ]
  },
  {
   "cell_type": "code",
   "execution_count": null,
   "id": "92e9b592-4356-433d-8cac-123addbe20a6",
   "metadata": {},
   "outputs": [],
   "source": [
    "histo_df"
   ]
  },
  {
   "cell_type": "code",
   "execution_count": null,
   "id": "f939cfd3-f48c-4c65-bff6-9d20bda5b0b2",
   "metadata": {},
   "outputs": [],
   "source": [
    "aux_df=pd.read_parquet(\"..\\data\\Summary_2022-04-30.parquet\")"
   ]
  },
  {
   "cell_type": "code",
   "execution_count": null,
   "id": "08072e00-f4bf-43bb-85e5-97ccf62d521a",
   "metadata": {},
   "outputs": [],
   "source": [
    "aux_df.equals(histo_df)"
   ]
  },
  {
   "cell_type": "markdown",
   "id": "187436e3-eb7e-4a26-a7d1-9653645f8dd1",
   "metadata": {},
   "source": [
    "### Process 2022-05-01"
   ]
  },
  {
   "cell_type": "code",
   "execution_count": null,
   "id": "219c8146-fd0a-4ecb-bc01-17d52de820d0",
   "metadata": {},
   "outputs": [],
   "source": [
    "from daily_update import get_historique_file\n",
    "\n",
    "\n",
    "data_path = os.listdir(\"../data\")\n",
    "\n",
    "histo_05_01 = [os.path.join(\"..\", \"data\", file_name) for file_name in data_path if file_name.startswith(\"historique_stations_2022-05-01\")]\n",
    "\n",
    "status_05_01 = [os.path.join(\"..\", \"data\", file_name) for file_name in data_path if file_name.startswith(\"station_status_2022-05-01\")]\n",
    "\n",
    "histo_df = pd.concat([get_historique_file(file_path, has_code=True) for file_path in histo_05_01], axis=0)\n",
    "\n",
    "histo_df = pd.concat([get_status_df(file_path) for file_path in status_05_01], axis=0)\n",
    "\n",
    "histo_df.sort_index(inplace=True)\n",
    "\n",
    "histo_df.to_parquet(\"..\\data\\Summary_2022-05-01.parquet\")"
   ]
  },
  {
   "cell_type": "markdown",
   "id": "9cdad8f0",
   "metadata": {},
   "source": [
    "## Process other dates"
   ]
  },
  {
   "cell_type": "code",
   "execution_count": null,
   "id": "9f6f57ce-a25b-48d8-9b2d-1f4b524d503c",
   "metadata": {},
   "outputs": [],
   "source": [
    "# Ignore first days, with different format\n",
    "data_path = os.listdir(\"../data\")\n",
    "\n",
    "summaries = [os.path.join(\"..\", \"data\", file_name) for file_name in data_path \n",
    "                if file_name.startswith(\"Summary_2022-05\")]\n",
    "\n",
    "print(summaries)"
   ]
  },
  {
   "cell_type": "code",
   "execution_count": null,
   "id": "ee60967c",
   "metadata": {},
   "outputs": [],
   "source": [
    "data_df = pd.concat([pd.read_parquet(file_path) for file_path in summaries],\n",
    "                    axis=0)\n",
    "data_df"
   ]
  },
  {
   "cell_type": "markdown",
   "id": "82026274",
   "metadata": {},
   "source": [
    "Oups ! Dans le ci-dessus il s'est passé des choses horribles, à vue de nez un échange entre `available_mechanical` et `operative` ou quelque chose dans ce goût là ! Il va être nécessaire d'étudier le comportement de plus près !"
   ]
  },
  {
   "cell_type": "code",
   "execution_count": null,
   "id": "06613f78",
   "metadata": {},
   "outputs": [],
   "source": [
    "pd.read_parquet(summaries[0])"
   ]
  },
  {
   "cell_type": "code",
   "execution_count": null,
   "id": "96003d87",
   "metadata": {},
   "outputs": [],
   "source": [
    "pd.read_parquet(summaries[-1])"
   ]
  },
  {
   "cell_type": "markdown",
   "id": "408fee66",
   "metadata": {},
   "source": [
    "On voit le problème ci-dessus (`available_mechanical` semble avoir pris la place de `operative`)"
   ]
  },
  {
   "cell_type": "code",
   "execution_count": null,
   "id": "bd968b2b",
   "metadata": {},
   "outputs": [],
   "source": [
    "pd.read_parquet(summaries[2]).drop_duplicates()"
   ]
  },
  {
   "cell_type": "code",
   "execution_count": null,
   "id": "b2662f00",
   "metadata": {},
   "outputs": [],
   "source": [
    "pd.read_parquet(summaries[3])"
   ]
  },
  {
   "cell_type": "markdown",
   "id": "7a11628e",
   "metadata": {},
   "source": [
    "Le problème apparaît dans `summaries[3]` ! \n",
    "\n",
    "NB : \n",
    "* comme les données ont été récoltées par tranche de 10 min et que le code n'a pas changé à minuit, il va sans doute être nécessaire d'enquêter de plus près !\n",
    "* on voit ci-dessus une grosse duplication de lignes pour la station `21110`, il serait sans doute judicier de faire un \"drop duplicate\". Voir même de faire le \"drop duplicate\" dans le code de création des \"summaries\" !"
   ]
  },
  {
   "cell_type": "code",
   "execution_count": null,
   "id": "c26ac859",
   "metadata": {},
   "outputs": [],
   "source": [
    "pd.read_parquet(summaries[4]).drop_duplicates()"
   ]
  }
 ],
 "metadata": {
  "interpreter": {
   "hash": "81794d4967e6c3204c66dcd87b604927b115b27c00565d3d43f05ba2f3a2cb0d"
  },
  "kernelspec": {
   "display_name": "Python 3.9.6 64-bit",
   "language": "python",
   "name": "python3"
  },
  "language_info": {
   "codemirror_mode": {
    "name": "ipython",
    "version": 3
   },
   "file_extension": ".py",
   "mimetype": "text/x-python",
   "name": "python",
   "nbconvert_exporter": "python",
   "pygments_lexer": "ipython3",
   "version": "3.9.6"
  },
  "toc-autonumbering": true
 },
 "nbformat": 4,
 "nbformat_minor": 5
}

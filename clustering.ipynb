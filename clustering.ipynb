{
 "cells": [
  {
   "cell_type": "markdown",
   "id": "0c0edabf-190a-4269-9f37-8c40ea6fdad4",
   "metadata": {},
   "source": [
    "# Explo: landing space and clustering\n",
    "\n",
    "Considering how little data we have at the moment, the goal here is to *cluster stations* in order to use data from similar stations as basis for predictions."
   ]
  },
  {
   "cell_type": "markdown",
   "id": "3acf108e",
   "metadata": {},
   "source": [
    "## Ideas and steps\n",
    "\n",
    "* Use the ratio of bikes (mechanical, electrical) in order to compare stations with different number of docking stations...\n",
    "* Perform PCA in order to visualise the different clusters \n",
    "    * NB: based on the previous ratio\n",
    "    * NB: here, the goal is simply to explore the \"landing space\" (what are the possible/probable configurations)\n",
    "* Compute correlation between different stations (in order to perform the clustering).\n",
    "    * NB: this type of correlation could be relevant independantly of the statiscal model used (e.g. indep. of rain, holidays, week days, ...)\n"
   ]
  },
  {
   "cell_type": "markdown",
   "id": "844027d4",
   "metadata": {},
   "source": [
    "# Code properly speaking"
   ]
  },
  {
   "cell_type": "code",
   "execution_count": null,
   "id": "07936e14-9290-47ee-9087-df2c81b9178d",
   "metadata": {},
   "outputs": [],
   "source": [
    "%load_ext autoreload\n",
    "%autoreload 2\n",
    "\n",
    "import os\n",
    "import pandas as pd"
   ]
  },
  {
   "cell_type": "code",
   "execution_count": null,
   "id": "5b309859-ddcd-48ff-90c3-a30bd7005d2e",
   "metadata": {},
   "outputs": [],
   "source": [
    "#import datetime\n",
    "# import numpy as np\n",
    "# import pyarrow"
   ]
  },
  {
   "cell_type": "markdown",
   "id": "045675f2",
   "metadata": {},
   "source": [
    "## Distribution of station \"size\""
   ]
  },
  {
   "cell_type": "markdown",
   "id": "2230ec6d",
   "metadata": {},
   "source": [
    "More properly speaking: total number of docking stations!"
   ]
  },
  {
   "cell_type": "code",
   "execution_count": null,
   "id": "a4a5f1f5",
   "metadata": {},
   "outputs": [],
   "source": [
    "file_name = \"station_info_2022-05-15.csv\"\n",
    "file_path = os.path.join(\"data\", file_name)\n",
    "\n",
    "base_df = pd.read_csv(file_path, \n",
    "                      header=None,\n",
    "                      names=[\"stationCode\", \"stationName\", \"capacity\", \"stationGeo\", \"operative\"],\n",
    "                      index_col=\"stationCode\"\n",
    "                    )\n",
    "\n",
    "base_df.drop_duplicates(inplace=True)"
   ]
  },
  {
   "cell_type": "code",
   "execution_count": null,
   "id": "da194100",
   "metadata": {},
   "outputs": [],
   "source": [
    "import plotly.express as px\n",
    "\n",
    "fig = px.histogram(base_df, x=\"capacity\")\n",
    "fig.show()"
   ]
  },
  {
   "cell_type": "markdown",
   "id": "a22b456d",
   "metadata": {},
   "source": [
    "Ceci confirme mon intuition qu'il faut diviser le nombre de vélos dispo par le nombre de points d'accrochage - puisqu'il n'y a pas de \"taille typique\" de stations vélib."
   ]
  }
 ],
 "metadata": {
  "interpreter": {
   "hash": "81794d4967e6c3204c66dcd87b604927b115b27c00565d3d43f05ba2f3a2cb0d"
  },
  "kernelspec": {
   "display_name": "Python 3.9.6 64-bit",
   "language": "python",
   "name": "python3"
  },
  "language_info": {
   "codemirror_mode": {
    "name": "ipython",
    "version": 3
   },
   "file_extension": ".py",
   "mimetype": "text/x-python",
   "name": "python",
   "nbconvert_exporter": "python",
   "pygments_lexer": "ipython3",
   "version": "3.9.6"
  },
  "toc-autonumbering": true
 },
 "nbformat": 4,
 "nbformat_minor": 5
}

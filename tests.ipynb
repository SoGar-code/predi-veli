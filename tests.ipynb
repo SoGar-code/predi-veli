{
 "cells": [
  {
   "cell_type": "markdown",
   "id": "0c0edabf-190a-4269-9f37-8c40ea6fdad4",
   "metadata": {},
   "source": [
    "# Script tests"
   ]
  },
  {
   "cell_type": "code",
   "execution_count": null,
   "id": "07936e14-9290-47ee-9087-df2c81b9178d",
   "metadata": {},
   "outputs": [],
   "source": [
    "%load_ext autoreload\n",
    "%autoreload 2"
   ]
  },
  {
   "cell_type": "code",
   "execution_count": null,
   "id": "5b309859-ddcd-48ff-90c3-a30bd7005d2e",
   "metadata": {},
   "outputs": [],
   "source": [
    "import os\n",
    "import pandas as pd\n",
    "\n",
    "#import datetime\n",
    "# import numpy as np\n",
    "# import pyarrow"
   ]
  },
  {
   "cell_type": "markdown",
   "id": "045675f2",
   "metadata": {},
   "source": [
    "## Test script"
   ]
  },
  {
   "cell_type": "markdown",
   "id": "f3ca69ca",
   "metadata": {},
   "source": [
    "### Test fetch_data"
   ]
  },
  {
   "cell_type": "code",
   "execution_count": null,
   "id": "86708dcd",
   "metadata": {},
   "outputs": [],
   "source": [
    "import src.fetch_data as fd"
   ]
  },
  {
   "cell_type": "code",
   "execution_count": null,
   "id": "a039d1cd",
   "metadata": {},
   "outputs": [],
   "source": [
    "fd.get_statuses()"
   ]
  },
  {
   "cell_type": "markdown",
   "id": "d80a75f4",
   "metadata": {},
   "source": [
    "### Test collect_statuses"
   ]
  },
  {
   "cell_type": "code",
   "execution_count": null,
   "id": "fed0e951",
   "metadata": {},
   "outputs": [],
   "source": [
    "from src.daily_update import collect_statuses"
   ]
  },
  {
   "cell_type": "code",
   "execution_count": null,
   "id": "7799a08c",
   "metadata": {},
   "outputs": [],
   "source": [
    "# 2022-05-11 is a good date to test:\n",
    "# _ very regular sampling\n",
    "# _ all data available on MSI\n",
    "collect_statuses(\"2022-05-11\")"
   ]
  },
  {
   "cell_type": "markdown",
   "id": "52bdbf1b",
   "metadata": {},
   "source": [
    "### Test Slack message"
   ]
  },
  {
   "cell_type": "code",
   "execution_count": null,
   "id": "5179b8a0",
   "metadata": {},
   "outputs": [],
   "source": [
    "from src.daily_update import slack_message\n",
    "\n",
    "slack_message(\"test_example\", 120000)"
   ]
  },
  {
   "cell_type": "markdown",
   "id": "708bd6d0",
   "metadata": {},
   "source": [
    "### Test recover summary file"
   ]
  },
  {
   "cell_type": "code",
   "execution_count": null,
   "id": "e9a0c065",
   "metadata": {},
   "outputs": [],
   "source": [
    "date_str = \"2022-05-11\"\n",
    "\n",
    "file_name = \"Summary_{}.parquet\".format(date_str)\n",
    "file_path = os.path.join(\"data\", file_name)\n",
    "\n",
    "aux_df = pd.read_parquet(file_path)\n",
    "aux_df"
   ]
  }
 ],
 "metadata": {
  "interpreter": {
   "hash": "81794d4967e6c3204c66dcd87b604927b115b27c00565d3d43f05ba2f3a2cb0d"
  },
  "kernelspec": {
   "display_name": "Python 3.9.6 64-bit",
   "language": "python",
   "name": "python3"
  },
  "language_info": {
   "codemirror_mode": {
    "name": "ipython",
    "version": 3
   },
   "file_extension": ".py",
   "mimetype": "text/x-python",
   "name": "python",
   "nbconvert_exporter": "python",
   "pygments_lexer": "ipython3",
   "version": "3.9.6"
  },
  "toc-autonumbering": true
 },
 "nbformat": 4,
 "nbformat_minor": 5
}

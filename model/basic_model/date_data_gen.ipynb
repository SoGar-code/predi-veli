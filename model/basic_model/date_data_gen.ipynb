{
 "cells": [
  {
   "attachments": {},
   "cell_type": "markdown",
   "metadata": {},
   "source": [
    "# Generate date data\n",
    "\n",
    "Create a table including the characteristics of the date under consideration. \n",
    "\n",
    "This is the table where we should input:\n",
    "* week-day vs week-end\n",
    "* holiday or not\n",
    "* temperature\n",
    "* weather\n",
    "\n",
    "For the original version, we could start with the simplest characteristics."
   ]
  },
  {
   "cell_type": "code",
   "execution_count": 7,
   "metadata": {},
   "outputs": [],
   "source": [
    "%load_ext autoreload\n",
    "%autoreload 2\n",
    "\n",
    "import numpy as np\n",
    "import pandas as pd\n",
    "\n",
    "from pathlib import Path"
   ]
  },
  {
   "cell_type": "code",
   "execution_count": 4,
   "metadata": {},
   "outputs": [],
   "source": [
    "from data_preprocessing import get_annoted_data\n",
    "\n",
    "aux = get_annoted_data()\n",
    "date_data = pd.DataFrame(pd.to_datetime(np.unique(aux.index.date)), columns=[\"date\"])"
   ]
  },
  {
   "cell_type": "code",
   "execution_count": null,
   "metadata": {},
   "outputs": [],
   "source": [
    "date_data.set_index(\"date\", inplace=True)\n",
    "\n",
    "date_data[\"week_day\"] = date_data.index.weekday\n",
    "date_data[\"week-end\"] = date_data[\"week_day\"].isin(week_ends)"
   ]
  },
  {
   "cell_type": "code",
   "execution_count": null,
   "metadata": {},
   "outputs": [],
   "source": [
    "from vacances_scolaires_france import SchoolHolidayDates\n",
    "\n",
    "date_data[\"school_holiday\"] = False\n",
    "\n",
    "d = SchoolHolidayDates()\n",
    "\n",
    "for current_date in date_data.index:\n",
    "    date_data[\"school_holiday\"].loc[current_date] = d.is_holiday_for_zone(current_date.date(), 'C')\n",
    "    \n",
    "#date_data[\"school_holiday\"].sum()"
   ]
  },
  {
   "cell_type": "code",
   "execution_count": null,
   "metadata": {},
   "outputs": [],
   "source": [
    "from jours_feries_france import JoursFeries\n",
    "\n",
    "date_data[\"bank_holiday\"] = False\n",
    "\n",
    "for current_date in date_data.index:\n",
    "    date_data[\"bank_holiday\"].loc[current_date] = JoursFeries.is_bank_holiday(current_date.date(), zone=\"Métropole\")\n",
    "\n",
    "#date_data[\"bank_holiday\"].sum()"
   ]
  },
  {
   "cell_type": "code",
   "execution_count": 10,
   "metadata": {},
   "outputs": [
    {
     "name": "stdout",
     "output_type": "stream",
     "text": [
      "D:\\git\\predi-veli\\date_data_test.csv\n"
     ]
    }
   ],
   "source": [
    "save_folder = Path().resolve()\n",
    "\n",
    "date_data_path = save_path/\"date_data_test.csv\"\n",
    "print(date_data_path)"
   ]
  },
  {
   "cell_type": "code",
   "execution_count": 9,
   "metadata": {},
   "outputs": [
    {
     "data": {
      "text/plain": [
       "WindowsPath('D:/git/predi-veli')"
      ]
     },
     "execution_count": 9,
     "metadata": {},
     "output_type": "execute_result"
    }
   ],
   "source": [
    "#date_data.to_csv(date_data_path)"
   ]
  }
 ],
 "metadata": {
  "kernelspec": {
   "display_name": "predi-veli-ml-venv",
   "language": "python",
   "name": "python3"
  },
  "language_info": {
   "codemirror_mode": {
    "name": "ipython",
    "version": 3
   },
   "file_extension": ".py",
   "mimetype": "text/x-python",
   "name": "python",
   "nbconvert_exporter": "python",
   "pygments_lexer": "ipython3",
   "version": "3.9.15"
  },
  "orig_nbformat": 4,
  "vscode": {
   "interpreter": {
    "hash": "42fc7100a7923c75f9e8f5dedb403f78d7992a3693e3d5643abdb1d37fea0100"
   }
  }
 },
 "nbformat": 4,
 "nbformat_minor": 2
}
